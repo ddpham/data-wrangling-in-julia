{
 "cells": [
  {
   "cell_type": "markdown",
   "id": "8b9d4ab8",
   "metadata": {},
   "source": [
    "# Nội dung chính"
   ]
  },
  {
   "cell_type": "markdown",
   "id": "6a383b34",
   "metadata": {},
   "source": [
    "Trong notebook này chúng ta sẽ đi qua các biến đổi dữ liệu cơ bản và cách sử dụng pipeoperator trong biến đổi dữ liệu"
   ]
  },
  {
   "cell_type": "markdown",
   "id": "813d4628",
   "metadata": {},
   "source": [
    "Pkg là thư viện trong base của julia nên bạn không cần phải cài. Nếu bạn thiếu DataFrames, CSV, XLSX, Pipe, bạn cần phải cài những thư viện này bằng cách:\n",
    "```julia\n",
    "pkgs = [\"DataFrames\", \"CSV\", \"XLSX\", \"Pipe\", \"Statistics\"]\n",
    "Pkg.add(pkgs)\n",
    "```"
   ]
  },
  {
   "cell_type": "code",
   "execution_count": null,
   "id": "7205759f-73df-4962-9567-d43a511282d9",
   "metadata": {},
   "outputs": [],
   "source": [
    "using Pkg"
   ]
  },
  {
   "cell_type": "code",
   "execution_count": null,
   "id": "8243b08c-2717-4ce3-b11f-6547e8321e33",
   "metadata": {},
   "outputs": [
    {
     "name": "stderr",
     "output_type": "stream",
     "text": [
      "\u001b[32m\u001b[1m    Updating\u001b[22m\u001b[39m registry at `~/.julia/registries/General.toml`\n"
     ]
    },
    {
     "name": "stderr",
     "output_type": "stream",
     "text": [
      "\u001b[32m\u001b[1m   Resolving\u001b[22m\u001b[39m package versions...\n"
     ]
    },
    {
     "name": "stderr",
     "output_type": "stream",
     "text": [
      "\u001b[32m\u001b[1m  No Changes\u001b[22m\u001b[39m to `~/.julia/environments/v1.8/Project.toml`\n",
      "\u001b[32m\u001b[1m  No Changes\u001b[22m\u001b[39m to `~/.julia/environments/v1.8/Manifest.toml`\n"
     ]
    }
   ],
   "source": [
    "# DataFrames\n",
    "Pkg.add(\"DataFrames\")"
   ]
  },
  {
   "cell_type": "code",
   "execution_count": null,
   "id": "395b8ce5-56c0-449c-a68f-7dc3a4f5d7d6",
   "metadata": {},
   "outputs": [
    {
     "name": "stderr",
     "output_type": "stream",
     "text": [
      "\u001b[32m\u001b[1m   Resolving\u001b[22m\u001b[39m package versions...\n",
      "\u001b[32m\u001b[1m  No Changes\u001b[22m\u001b[39m to `~/.julia/environments/v1.8/Project.toml`\n",
      "\u001b[32m\u001b[1m  No Changes\u001b[22m\u001b[39m to `~/.julia/environments/v1.8/Manifest.toml`\n"
     ]
    }
   ],
   "source": [
    "# CSV\n",
    "Pkg.add(\"CSV\")"
   ]
  },
  {
   "cell_type": "code",
   "execution_count": null,
   "id": "1546c583-3b0b-4779-8488-6d9445952af2",
   "metadata": {},
   "outputs": [
    {
     "name": "stderr",
     "output_type": "stream",
     "text": [
      "\u001b[32m\u001b[1m   Resolving\u001b[22m\u001b[39m package versions...\n",
      "\u001b[32m\u001b[1m  No Changes\u001b[22m\u001b[39m to `~/.julia/environments/v1.8/Project.toml`\n",
      "\u001b[32m\u001b[1m  No Changes\u001b[22m\u001b[39m to `~/.julia/environments/v1.8/Manifest.toml`\n"
     ]
    }
   ],
   "source": [
    "# XLSX\n",
    "Pkg.add(\"XLSX\")"
   ]
  },
  {
   "cell_type": "code",
   "execution_count": null,
   "id": "75df6822-208e-4da2-bcb0-8f792dc6c2f3",
   "metadata": {},
   "outputs": [
    {
     "name": "stderr",
     "output_type": "stream",
     "text": [
      "\u001b[32m\u001b[1m   Resolving\u001b[22m\u001b[39m package versions...\n",
      "\u001b[32m\u001b[1m  No Changes\u001b[22m\u001b[39m to `~/.julia/environments/v1.8/Project.toml`\n",
      "\u001b[32m\u001b[1m  No Changes\u001b[22m\u001b[39m to `~/.julia/environments/v1.8/Manifest.toml`\n"
     ]
    }
   ],
   "source": [
    "# Statistics\n",
    "Pkg.add(\"Statistics\")"
   ]
  },
  {
   "cell_type": "code",
   "execution_count": null,
   "id": "49fab15f-84a0-4e90-97a4-47d4c341cfdb",
   "metadata": {},
   "outputs": [
    {
     "name": "stderr",
     "output_type": "stream",
     "text": [
      "\u001b[32m\u001b[1m   Resolving\u001b[22m\u001b[39m package versions...\n",
      "\u001b[32m\u001b[1m  No Changes\u001b[22m\u001b[39m to `~/.julia/environments/v1.8/Project.toml`\n",
      "\u001b[32m\u001b[1m  No Changes\u001b[22m\u001b[39m to `~/.julia/environments/v1.8/Manifest.toml`\n"
     ]
    }
   ],
   "source": [
    "# Pipe\n",
    "Pkg.add(\"Pipe\")"
   ]
  },
  {
   "cell_type": "code",
   "execution_count": null,
   "id": "ce4d52ea",
   "metadata": {},
   "outputs": [],
   "source": [
    "# Tải các thư viên\n",
    "using DataFrames, CSV, XLSX\n",
    "using Statistics\n",
    "using Pipe"
   ]
  },
  {
   "cell_type": "markdown",
   "id": "0217fb96",
   "metadata": {},
   "source": [
    "# Pipe operator"
   ]
  },
  {
   "cell_type": "markdown",
   "id": "6b8bb630",
   "metadata": {},
   "source": [
    "Chúng ta sẽ cùng làm quen với Pipe operator trước khi chúng ta bắt đầu các phần khác. Lý do là vì các phần dưới đây mình sẽ sử dụng pipeoperator khá nhiều. Pipeoperator sẽ giúp ích cho chúng ta rất nhiều đặc biệt là việc sâu chuỗi các bước biến đổi dữ liệu vào với nhau để tránh việc phải cắt nhỏ các bước xử lý ra, hoặc đơn giản là bạn không muốn phải dùng quá nhiều các dấu ngoặc (nested), khiến cho câu lệnh khó đọc hơn."
   ]
  },
  {
   "cell_type": "code",
   "execution_count": null,
   "id": "4ac0fa46",
   "metadata": {},
   "outputs": [
    {
     "data": {
      "text/plain": [
       "download_data (generic function with 1 method)"
      ]
     },
     "metadata": {},
     "output_type": "display_data"
    }
   ],
   "source": [
    "# Tải dữ liệu về\n",
    "function download_data(url::String)\n",
    "    return DataFrame(CSV.File(download(url); missingstring = \"?\"))\n",
    "end"
   ]
  },
  {
   "cell_type": "code",
   "execution_count": null,
   "id": "e22f392c",
   "metadata": {
    "tags": []
   },
   "outputs": [
    {
     "data": {
      "text/html": [
       "<div><div style = \"float: left;\"><span>5×14 DataFrame</span></div><div style = \"clear: both;\"></div></div><div class = \"data-frame\" style = \"overflow-x: scroll;\"><table class = \"data-frame\" style = \"margin-bottom: 6px;\"><thead><tr class = \"header\"><th class = \"rowNumber\" style = \"font-weight: bold; text-align: right;\">Row</th><th style = \"text-align: left;\">pclass</th><th style = \"text-align: left;\">survived</th><th style = \"text-align: left;\">name</th><th style = \"text-align: left;\">sex</th><th style = \"text-align: left;\">age</th><th style = \"text-align: left;\">sibsp</th><th style = \"text-align: left;\">parch</th><th style = \"text-align: left;\">ticket</th><th style = \"text-align: left;\">fare</th><th style = \"text-align: left;\">cabin</th><th style = \"text-align: left;\">embarked</th><th style = \"text-align: left;\">boat</th><th style = \"text-align: left;\">body</th><th style = \"text-align: left;\">home.dest</th></tr><tr class = \"subheader headerLastRow\"><th class = \"rowNumber\" style = \"font-weight: bold; text-align: right;\"></th><th title = \"Int64\" style = \"text-align: left;\">Int64</th><th title = \"Int64\" style = \"text-align: left;\">Int64</th><th title = \"String\" style = \"text-align: left;\">String</th><th title = \"String7\" style = \"text-align: left;\">String7</th><th title = \"Union{Missing, Float64}\" style = \"text-align: left;\">Float64?</th><th title = \"Int64\" style = \"text-align: left;\">Int64</th><th title = \"Int64\" style = \"text-align: left;\">Int64</th><th title = \"String31\" style = \"text-align: left;\">String31</th><th title = \"Union{Missing, Float64}\" style = \"text-align: left;\">Float64?</th><th title = \"Union{Missing, String15}\" style = \"text-align: left;\">String15?</th><th title = \"Union{Missing, String1}\" style = \"text-align: left;\">String1?</th><th title = \"Union{Missing, String7}\" style = \"text-align: left;\">String7?</th><th title = \"Union{Missing, Int64}\" style = \"text-align: left;\">Int64?</th><th title = \"Union{Missing, String}\" style = \"text-align: left;\">String?</th></tr></thead><tbody><tr><td class = \"rowNumber\" style = \"font-weight: bold; text-align: right;\">1</td><td style = \"text-align: right;\">1</td><td style = \"text-align: right;\">1</td><td style = \"text-align: left;\">Allen, Miss. Elisabeth Walton</td><td style = \"text-align: left;\">female</td><td style = \"text-align: right;\">29.0</td><td style = \"text-align: right;\">0</td><td style = \"text-align: right;\">0</td><td style = \"text-align: left;\">24160</td><td style = \"text-align: right;\">211.338</td><td style = \"text-align: left;\">B5</td><td style = \"text-align: left;\">S</td><td style = \"text-align: left;\">2</td><td style = \"font-style: italic; text-align: right;\">missing</td><td style = \"text-align: left;\">St Louis, MO</td></tr><tr><td class = \"rowNumber\" style = \"font-weight: bold; text-align: right;\">2</td><td style = \"text-align: right;\">1</td><td style = \"text-align: right;\">1</td><td style = \"text-align: left;\">Allison, Master. Hudson Trevor</td><td style = \"text-align: left;\">male</td><td style = \"text-align: right;\">0.9167</td><td style = \"text-align: right;\">1</td><td style = \"text-align: right;\">2</td><td style = \"text-align: left;\">113781</td><td style = \"text-align: right;\">151.55</td><td style = \"text-align: left;\">C22 C26</td><td style = \"text-align: left;\">S</td><td style = \"text-align: left;\">11</td><td style = \"font-style: italic; text-align: right;\">missing</td><td style = \"text-align: left;\">Montreal, PQ / Chesterville, ON</td></tr><tr><td class = \"rowNumber\" style = \"font-weight: bold; text-align: right;\">3</td><td style = \"text-align: right;\">1</td><td style = \"text-align: right;\">0</td><td style = \"text-align: left;\">Allison, Miss. Helen Loraine</td><td style = \"text-align: left;\">female</td><td style = \"text-align: right;\">2.0</td><td style = \"text-align: right;\">1</td><td style = \"text-align: right;\">2</td><td style = \"text-align: left;\">113781</td><td style = \"text-align: right;\">151.55</td><td style = \"text-align: left;\">C22 C26</td><td style = \"text-align: left;\">S</td><td style = \"font-style: italic; text-align: left;\">missing</td><td style = \"font-style: italic; text-align: right;\">missing</td><td style = \"text-align: left;\">Montreal, PQ / Chesterville, ON</td></tr><tr><td class = \"rowNumber\" style = \"font-weight: bold; text-align: right;\">4</td><td style = \"text-align: right;\">1</td><td style = \"text-align: right;\">0</td><td style = \"text-align: left;\">Allison, Mr. Hudson Joshua Creighton</td><td style = \"text-align: left;\">male</td><td style = \"text-align: right;\">30.0</td><td style = \"text-align: right;\">1</td><td style = \"text-align: right;\">2</td><td style = \"text-align: left;\">113781</td><td style = \"text-align: right;\">151.55</td><td style = \"text-align: left;\">C22 C26</td><td style = \"text-align: left;\">S</td><td style = \"font-style: italic; text-align: left;\">missing</td><td style = \"text-align: right;\">135</td><td style = \"text-align: left;\">Montreal, PQ / Chesterville, ON</td></tr><tr><td class = \"rowNumber\" style = \"font-weight: bold; text-align: right;\">5</td><td style = \"text-align: right;\">1</td><td style = \"text-align: right;\">0</td><td style = \"text-align: left;\">Allison, Mrs. Hudson J C (Bessie Waldo Daniels)</td><td style = \"text-align: left;\">female</td><td style = \"text-align: right;\">25.0</td><td style = \"text-align: right;\">1</td><td style = \"text-align: right;\">2</td><td style = \"text-align: left;\">113781</td><td style = \"text-align: right;\">151.55</td><td style = \"text-align: left;\">C22 C26</td><td style = \"text-align: left;\">S</td><td style = \"font-style: italic; text-align: left;\">missing</td><td style = \"font-style: italic; text-align: right;\">missing</td><td style = \"text-align: left;\">Montreal, PQ / Chesterville, ON</td></tr></tbody></table></div>"
      ],
      "text/latex": [
       "\\begin{tabular}{r|cccccc}\n",
       "\t& pclass & survived & name & sex & age & \\\\\n",
       "\t\\hline\n",
       "\t& Int64 & Int64 & String & String7 & Float64? & \\\\\n",
       "\t\\hline\n",
       "\t1 & 1 & 1 & Allen, Miss. Elisabeth Walton & female & 29.0 & $\\dots$ \\\\\n",
       "\t2 & 1 & 1 & Allison, Master. Hudson Trevor & male & 0.9167 & $\\dots$ \\\\\n",
       "\t3 & 1 & 0 & Allison, Miss. Helen Loraine & female & 2.0 & $\\dots$ \\\\\n",
       "\t4 & 1 & 0 & Allison, Mr. Hudson Joshua Creighton & male & 30.0 & $\\dots$ \\\\\n",
       "\t5 & 1 & 0 & Allison, Mrs. Hudson J C (Bessie Waldo Daniels) & female & 25.0 & $\\dots$ \\\\\n",
       "\\end{tabular}\n"
      ],
      "text/plain": [
       "\u001b[1m5×14 DataFrame\u001b[0m\n",
       "\u001b[1m Row \u001b[0m│\u001b[1m pclass \u001b[0m\u001b[1m survived \u001b[0m\u001b[1m name                              \u001b[0m\u001b[1m sex     \u001b[0m\u001b[1m age      \u001b[0m\u001b[1m\u001b[0m ⋯\n",
       "     │\u001b[90m Int64  \u001b[0m\u001b[90m Int64    \u001b[0m\u001b[90m String                            \u001b[0m\u001b[90m String7 \u001b[0m\u001b[90m Float64? \u001b[0m\u001b[90m\u001b[0m ⋯\n",
       "─────┼──────────────────────────────────────────────────────────────────────────\n",
       "   1 │      1         1  Allen, Miss. Elisabeth Walton      female    29.0     ⋯\n",
       "   2 │      1         1  Allison, Master. Hudson Trevor     male       0.9167\n",
       "   3 │      1         0  Allison, Miss. Helen Loraine       female     2.0\n",
       "   4 │      1         0  Allison, Mr. Hudson Joshua Creig…  male      30.0\n",
       "   5 │      1         0  Allison, Mrs. Hudson J C (Bessie…  female    25.0     ⋯\n",
       "\u001b[36m                                                               9 columns omitted\u001b[0m"
      ]
     },
     "metadata": {},
     "output_type": "display_data"
    }
   ],
   "source": [
    "url = \"https://www.openml.org/data/get_csv/16826755/phpMYEkMl\"\n",
    "df = download_data(url)\n",
    "@pipe df |> first(_, 5)"
   ]
  },
  {
   "cell_type": "code",
   "execution_count": null,
   "id": "2623bff3-2a3e-4f87-af56-c381af8198b3",
   "metadata": {},
   "outputs": [
    {
     "data": {
      "text/html": [
       "<div><div style = \"float: left;\"><span>14×7 DataFrame</span></div><div style = \"clear: both;\"></div></div><div class = \"data-frame\" style = \"overflow-x: scroll;\"><table class = \"data-frame\" style = \"margin-bottom: 6px;\"><thead><tr class = \"header\"><th class = \"rowNumber\" style = \"font-weight: bold; text-align: right;\">Row</th><th style = \"text-align: left;\">variable</th><th style = \"text-align: left;\">mean</th><th style = \"text-align: left;\">min</th><th style = \"text-align: left;\">median</th><th style = \"text-align: left;\">max</th><th style = \"text-align: left;\">nmissing</th><th style = \"text-align: left;\">eltype</th></tr><tr class = \"subheader headerLastRow\"><th class = \"rowNumber\" style = \"font-weight: bold; text-align: right;\"></th><th title = \"Symbol\" style = \"text-align: left;\">Symbol</th><th title = \"Union{Nothing, Float64}\" style = \"text-align: left;\">Union…</th><th title = \"Any\" style = \"text-align: left;\">Any</th><th title = \"Union{Nothing, Float64}\" style = \"text-align: left;\">Union…</th><th title = \"Any\" style = \"text-align: left;\">Any</th><th title = \"Int64\" style = \"text-align: left;\">Int64</th><th title = \"Type\" style = \"text-align: left;\">Type</th></tr></thead><tbody><tr><td class = \"rowNumber\" style = \"font-weight: bold; text-align: right;\">1</td><td style = \"text-align: left;\">pclass</td><td style = \"text-align: left;\">2.29488</td><td style = \"text-align: left;\">1</td><td style = \"text-align: left;\">3.0</td><td style = \"text-align: left;\">3</td><td style = \"text-align: right;\">0</td><td style = \"text-align: left;\">Int64</td></tr><tr><td class = \"rowNumber\" style = \"font-weight: bold; text-align: right;\">2</td><td style = \"text-align: left;\">survived</td><td style = \"text-align: left;\">0.381971</td><td style = \"text-align: left;\">0</td><td style = \"text-align: left;\">0.0</td><td style = \"text-align: left;\">1</td><td style = \"text-align: right;\">0</td><td style = \"text-align: left;\">Int64</td></tr><tr><td class = \"rowNumber\" style = \"font-weight: bold; text-align: right;\">3</td><td style = \"text-align: left;\">name</td><td style = \"font-style: italic; text-align: left;\"></td><td style = \"text-align: left;\">Abbing, Mr. Anthony</td><td style = \"font-style: italic; text-align: left;\"></td><td style = \"text-align: left;\">van Melkebeke, Mr. Philemon</td><td style = \"text-align: right;\">0</td><td style = \"text-align: left;\">String</td></tr><tr><td class = \"rowNumber\" style = \"font-weight: bold; text-align: right;\">4</td><td style = \"text-align: left;\">sex</td><td style = \"font-style: italic; text-align: left;\"></td><td style = \"text-align: left;\">female</td><td style = \"font-style: italic; text-align: left;\"></td><td style = \"text-align: left;\">male</td><td style = \"text-align: right;\">0</td><td style = \"text-align: left;\">String7</td></tr><tr><td class = \"rowNumber\" style = \"font-weight: bold; text-align: right;\">5</td><td style = \"text-align: left;\">age</td><td style = \"text-align: left;\">29.8811</td><td style = \"text-align: left;\">0.1667</td><td style = \"text-align: left;\">28.0</td><td style = \"text-align: left;\">80.0</td><td style = \"text-align: right;\">263</td><td style = \"text-align: left;\">Union{Missing, Float64}</td></tr><tr><td class = \"rowNumber\" style = \"font-weight: bold; text-align: right;\">6</td><td style = \"text-align: left;\">sibsp</td><td style = \"text-align: left;\">0.498854</td><td style = \"text-align: left;\">0</td><td style = \"text-align: left;\">0.0</td><td style = \"text-align: left;\">8</td><td style = \"text-align: right;\">0</td><td style = \"text-align: left;\">Int64</td></tr><tr><td class = \"rowNumber\" style = \"font-weight: bold; text-align: right;\">7</td><td style = \"text-align: left;\">parch</td><td style = \"text-align: left;\">0.385027</td><td style = \"text-align: left;\">0</td><td style = \"text-align: left;\">0.0</td><td style = \"text-align: left;\">9</td><td style = \"text-align: right;\">0</td><td style = \"text-align: left;\">Int64</td></tr><tr><td class = \"rowNumber\" style = \"font-weight: bold; text-align: right;\">8</td><td style = \"text-align: left;\">ticket</td><td style = \"font-style: italic; text-align: left;\"></td><td style = \"text-align: left;\">110152</td><td style = \"font-style: italic; text-align: left;\"></td><td style = \"text-align: left;\">WE/P 5735</td><td style = \"text-align: right;\">0</td><td style = \"text-align: left;\">String31</td></tr><tr><td class = \"rowNumber\" style = \"font-weight: bold; text-align: right;\">9</td><td style = \"text-align: left;\">fare</td><td style = \"text-align: left;\">33.2955</td><td style = \"text-align: left;\">0.0</td><td style = \"text-align: left;\">14.4542</td><td style = \"text-align: left;\">512.329</td><td style = \"text-align: right;\">1</td><td style = \"text-align: left;\">Union{Missing, Float64}</td></tr><tr><td class = \"rowNumber\" style = \"font-weight: bold; text-align: right;\">10</td><td style = \"text-align: left;\">cabin</td><td style = \"font-style: italic; text-align: left;\"></td><td style = \"text-align: left;\">A10</td><td style = \"font-style: italic; text-align: left;\"></td><td style = \"text-align: left;\">T</td><td style = \"text-align: right;\">1014</td><td style = \"text-align: left;\">Union{Missing, String15}</td></tr><tr><td class = \"rowNumber\" style = \"font-weight: bold; text-align: right;\">11</td><td style = \"text-align: left;\">embarked</td><td style = \"font-style: italic; text-align: left;\"></td><td style = \"text-align: left;\">C</td><td style = \"font-style: italic; text-align: left;\"></td><td style = \"text-align: left;\">S</td><td style = \"text-align: right;\">2</td><td style = \"text-align: left;\">Union{Missing, String1}</td></tr><tr><td class = \"rowNumber\" style = \"font-weight: bold; text-align: right;\">12</td><td style = \"text-align: left;\">boat</td><td style = \"font-style: italic; text-align: left;\"></td><td style = \"text-align: left;\">1</td><td style = \"font-style: italic; text-align: left;\"></td><td style = \"text-align: left;\">D</td><td style = \"text-align: right;\">823</td><td style = \"text-align: left;\">Union{Missing, String7}</td></tr><tr><td class = \"rowNumber\" style = \"font-weight: bold; text-align: right;\">13</td><td style = \"text-align: left;\">body</td><td style = \"text-align: left;\">160.81</td><td style = \"text-align: left;\">1</td><td style = \"text-align: left;\">155.0</td><td style = \"text-align: left;\">328</td><td style = \"text-align: right;\">1188</td><td style = \"text-align: left;\">Union{Missing, Int64}</td></tr><tr><td class = \"rowNumber\" style = \"font-weight: bold; text-align: right;\">14</td><td style = \"text-align: left;\">home.dest</td><td style = \"font-style: italic; text-align: left;\"></td><td style = \"text-align: left;\">?Havana, Cuba</td><td style = \"font-style: italic; text-align: left;\"></td><td style = \"text-align: left;\">Zurich, Switzerland</td><td style = \"text-align: right;\">564</td><td style = \"text-align: left;\">Union{Missing, String}</td></tr></tbody></table></div>"
      ],
      "text/latex": [
       "\\begin{tabular}{r|cccccc}\n",
       "\t& variable & mean & min & median & max & \\\\\n",
       "\t\\hline\n",
       "\t& Symbol & Union… & Any & Union… & Any & \\\\\n",
       "\t\\hline\n",
       "\t1 & pclass & 2.29488 & 1 & 3.0 & 3 & $\\dots$ \\\\\n",
       "\t2 & survived & 0.381971 & 0 & 0.0 & 1 & $\\dots$ \\\\\n",
       "\t3 & name &  & Abbing, Mr. Anthony &  & van Melkebeke, Mr. Philemon & $\\dots$ \\\\\n",
       "\t4 & sex &  & female &  & male & $\\dots$ \\\\\n",
       "\t5 & age & 29.8811 & 0.1667 & 28.0 & 80.0 & $\\dots$ \\\\\n",
       "\t6 & sibsp & 0.498854 & 0 & 0.0 & 8 & $\\dots$ \\\\\n",
       "\t7 & parch & 0.385027 & 0 & 0.0 & 9 & $\\dots$ \\\\\n",
       "\t8 & ticket &  & 110152 &  & WE/P 5735 & $\\dots$ \\\\\n",
       "\t9 & fare & 33.2955 & 0.0 & 14.4542 & 512.329 & $\\dots$ \\\\\n",
       "\t10 & cabin &  & A10 &  & T & $\\dots$ \\\\\n",
       "\t11 & embarked &  & C &  & S & $\\dots$ \\\\\n",
       "\t12 & boat &  & 1 &  & D & $\\dots$ \\\\\n",
       "\t13 & body & 160.81 & 1 & 155.0 & 328 & $\\dots$ \\\\\n",
       "\t14 & home.dest &  & ?Havana, Cuba &  & Zurich, Switzerland & $\\dots$ \\\\\n",
       "\\end{tabular}\n"
      ],
      "text/plain": [
       "\u001b[1m14×7 DataFrame\u001b[0m\n",
       "\u001b[1m Row \u001b[0m│\u001b[1m variable  \u001b[0m\u001b[1m mean     \u001b[0m\u001b[1m min                 \u001b[0m\u001b[1m median  \u001b[0m\u001b[1m max                 \u001b[0m ⋯\n",
       "     │\u001b[90m Symbol    \u001b[0m\u001b[90m Union…   \u001b[0m\u001b[90m Any                 \u001b[0m\u001b[90m Union…  \u001b[0m\u001b[90m Any                 \u001b[0m ⋯\n",
       "─────┼──────────────────────────────────────────────────────────────────────────\n",
       "   1 │ pclass     2.29488   1                    3.0      3                    ⋯\n",
       "   2 │ survived   0.381971  0                    0.0      1\n",
       "   3 │ name      \u001b[90m          \u001b[0m Abbing, Mr. Anthony \u001b[90m         \u001b[0m van Melkebeke, Mr. P\n",
       "   4 │ sex       \u001b[90m          \u001b[0m female              \u001b[90m         \u001b[0m male\n",
       "   5 │ age        29.8811   0.1667               28.0     80.0                 ⋯\n",
       "   6 │ sibsp      0.498854  0                    0.0      8\n",
       "   7 │ parch      0.385027  0                    0.0      9\n",
       "   8 │ ticket    \u001b[90m          \u001b[0m 110152              \u001b[90m         \u001b[0m WE/P 5735\n",
       "   9 │ fare       33.2955   0.0                  14.4542  512.329              ⋯\n",
       "  10 │ cabin     \u001b[90m          \u001b[0m A10                 \u001b[90m         \u001b[0m T\n",
       "  11 │ embarked  \u001b[90m          \u001b[0m C                   \u001b[90m         \u001b[0m S\n",
       "  12 │ boat      \u001b[90m          \u001b[0m 1                   \u001b[90m         \u001b[0m D\n",
       "  13 │ body       160.81    1                    155.0    328                  ⋯\n",
       "  14 │ home.dest \u001b[90m          \u001b[0m ?Havana, Cuba       \u001b[90m         \u001b[0m Zurich, Switzerland\n",
       "\u001b[36m                                                               3 columns omitted\u001b[0m"
      ]
     },
     "metadata": {},
     "output_type": "display_data"
    }
   ],
   "source": [
    "@pipe df |> describe(_)"
   ]
  },
  {
   "cell_type": "code",
   "execution_count": null,
   "id": "13031ba0-d42a-4215-a542-26818c096041",
   "metadata": {},
   "outputs": [
    {
     "data": {
      "text/html": [
       "<div><div style = \"float: left;\"><span>14×7 DataFrame</span></div><div style = \"clear: both;\"></div></div><div class = \"data-frame\" style = \"overflow-x: scroll;\"><table class = \"data-frame\" style = \"margin-bottom: 6px;\"><thead><tr class = \"header\"><th class = \"rowNumber\" style = \"font-weight: bold; text-align: right;\">Row</th><th style = \"text-align: left;\">variable</th><th style = \"text-align: left;\">mean</th><th style = \"text-align: left;\">min</th><th style = \"text-align: left;\">median</th><th style = \"text-align: left;\">max</th><th style = \"text-align: left;\">nmissing</th><th style = \"text-align: left;\">eltype</th></tr><tr class = \"subheader headerLastRow\"><th class = \"rowNumber\" style = \"font-weight: bold; text-align: right;\"></th><th title = \"Symbol\" style = \"text-align: left;\">Symbol</th><th title = \"Union{Nothing, Float64}\" style = \"text-align: left;\">Union…</th><th title = \"Any\" style = \"text-align: left;\">Any</th><th title = \"Union{Nothing, Float64}\" style = \"text-align: left;\">Union…</th><th title = \"Any\" style = \"text-align: left;\">Any</th><th title = \"Int64\" style = \"text-align: left;\">Int64</th><th title = \"Type\" style = \"text-align: left;\">Type</th></tr></thead><tbody><tr><td class = \"rowNumber\" style = \"font-weight: bold; text-align: right;\">1</td><td style = \"text-align: left;\">pclass</td><td style = \"text-align: left;\">1.0</td><td style = \"text-align: left;\">1</td><td style = \"text-align: left;\">1.0</td><td style = \"text-align: left;\">1</td><td style = \"text-align: right;\">0</td><td style = \"text-align: left;\">Int64</td></tr><tr><td class = \"rowNumber\" style = \"font-weight: bold; text-align: right;\">2</td><td style = \"text-align: left;\">survived</td><td style = \"text-align: left;\">1.0</td><td style = \"text-align: left;\">1</td><td style = \"text-align: left;\">1.0</td><td style = \"text-align: left;\">1</td><td style = \"text-align: right;\">0</td><td style = \"text-align: left;\">Int64</td></tr><tr><td class = \"rowNumber\" style = \"font-weight: bold; text-align: right;\">3</td><td style = \"text-align: left;\">name</td><td style = \"font-style: italic; text-align: left;\"></td><td style = \"text-align: left;\">Allen, Miss. Elisabeth Walton</td><td style = \"font-style: italic; text-align: left;\"></td><td style = \"text-align: left;\">Allen, Miss. Elisabeth Walton</td><td style = \"text-align: right;\">0</td><td style = \"text-align: left;\">String</td></tr><tr><td class = \"rowNumber\" style = \"font-weight: bold; text-align: right;\">4</td><td style = \"text-align: left;\">sex</td><td style = \"font-style: italic; text-align: left;\"></td><td style = \"text-align: left;\">female</td><td style = \"font-style: italic; text-align: left;\"></td><td style = \"text-align: left;\">female</td><td style = \"text-align: right;\">0</td><td style = \"text-align: left;\">String7</td></tr><tr><td class = \"rowNumber\" style = \"font-weight: bold; text-align: right;\">5</td><td style = \"text-align: left;\">age</td><td style = \"text-align: left;\">29.0</td><td style = \"text-align: left;\">29.0</td><td style = \"text-align: left;\">29.0</td><td style = \"text-align: left;\">29.0</td><td style = \"text-align: right;\">0</td><td style = \"text-align: left;\">Union{Missing, Float64}</td></tr><tr><td class = \"rowNumber\" style = \"font-weight: bold; text-align: right;\">6</td><td style = \"text-align: left;\">sibsp</td><td style = \"text-align: left;\">0.0</td><td style = \"text-align: left;\">0</td><td style = \"text-align: left;\">0.0</td><td style = \"text-align: left;\">0</td><td style = \"text-align: right;\">0</td><td style = \"text-align: left;\">Int64</td></tr><tr><td class = \"rowNumber\" style = \"font-weight: bold; text-align: right;\">7</td><td style = \"text-align: left;\">parch</td><td style = \"text-align: left;\">0.0</td><td style = \"text-align: left;\">0</td><td style = \"text-align: left;\">0.0</td><td style = \"text-align: left;\">0</td><td style = \"text-align: right;\">0</td><td style = \"text-align: left;\">Int64</td></tr><tr><td class = \"rowNumber\" style = \"font-weight: bold; text-align: right;\">8</td><td style = \"text-align: left;\">ticket</td><td style = \"font-style: italic; text-align: left;\"></td><td style = \"text-align: left;\">24160</td><td style = \"font-style: italic; text-align: left;\"></td><td style = \"text-align: left;\">24160</td><td style = \"text-align: right;\">0</td><td style = \"text-align: left;\">String31</td></tr><tr><td class = \"rowNumber\" style = \"font-weight: bold; text-align: right;\">9</td><td style = \"text-align: left;\">fare</td><td style = \"text-align: left;\">211.338</td><td style = \"text-align: left;\">211.338</td><td style = \"text-align: left;\">211.338</td><td style = \"text-align: left;\">211.338</td><td style = \"text-align: right;\">0</td><td style = \"text-align: left;\">Union{Missing, Float64}</td></tr><tr><td class = \"rowNumber\" style = \"font-weight: bold; text-align: right;\">10</td><td style = \"text-align: left;\">cabin</td><td style = \"font-style: italic; text-align: left;\"></td><td style = \"text-align: left;\">B5</td><td style = \"font-style: italic; text-align: left;\"></td><td style = \"text-align: left;\">B5</td><td style = \"text-align: right;\">0</td><td style = \"text-align: left;\">Union{Missing, String15}</td></tr><tr><td class = \"rowNumber\" style = \"font-weight: bold; text-align: right;\">11</td><td style = \"text-align: left;\">embarked</td><td style = \"font-style: italic; text-align: left;\"></td><td style = \"text-align: left;\">S</td><td style = \"font-style: italic; text-align: left;\"></td><td style = \"text-align: left;\">S</td><td style = \"text-align: right;\">0</td><td style = \"text-align: left;\">Union{Missing, String1}</td></tr><tr><td class = \"rowNumber\" style = \"font-weight: bold; text-align: right;\">12</td><td style = \"text-align: left;\">boat</td><td style = \"font-style: italic; text-align: left;\"></td><td style = \"text-align: left;\">2</td><td style = \"font-style: italic; text-align: left;\"></td><td style = \"text-align: left;\">2</td><td style = \"text-align: right;\">0</td><td style = \"text-align: left;\">Union{Missing, String7}</td></tr><tr><td class = \"rowNumber\" style = \"font-weight: bold; text-align: right;\">13</td><td style = \"text-align: left;\">body</td><td style = \"text-align: left;\">NaN</td><td style = \"font-style: italic; text-align: left;\"></td><td style = \"font-style: italic; text-align: left;\"></td><td style = \"font-style: italic; text-align: left;\"></td><td style = \"text-align: right;\">1</td><td style = \"text-align: left;\">Union{Missing, Int64}</td></tr><tr><td class = \"rowNumber\" style = \"font-weight: bold; text-align: right;\">14</td><td style = \"text-align: left;\">home.dest</td><td style = \"font-style: italic; text-align: left;\"></td><td style = \"text-align: left;\">St Louis, MO</td><td style = \"font-style: italic; text-align: left;\"></td><td style = \"text-align: left;\">St Louis, MO</td><td style = \"text-align: right;\">0</td><td style = \"text-align: left;\">Union{Missing, String}</td></tr></tbody></table></div>"
      ],
      "text/latex": [
       "\\begin{tabular}{r|cccccc}\n",
       "\t& variable & mean & min & median & max & \\\\\n",
       "\t\\hline\n",
       "\t& Symbol & Union… & Any & Union… & Any & \\\\\n",
       "\t\\hline\n",
       "\t1 & pclass & 1.0 & 1 & 1.0 & 1 & $\\dots$ \\\\\n",
       "\t2 & survived & 1.0 & 1 & 1.0 & 1 & $\\dots$ \\\\\n",
       "\t3 & name &  & Allen, Miss. Elisabeth Walton &  & Allen, Miss. Elisabeth Walton & $\\dots$ \\\\\n",
       "\t4 & sex &  & female &  & female & $\\dots$ \\\\\n",
       "\t5 & age & 29.0 & 29.0 & 29.0 & 29.0 & $\\dots$ \\\\\n",
       "\t6 & sibsp & 0.0 & 0 & 0.0 & 0 & $\\dots$ \\\\\n",
       "\t7 & parch & 0.0 & 0 & 0.0 & 0 & $\\dots$ \\\\\n",
       "\t8 & ticket &  & 24160 &  & 24160 & $\\dots$ \\\\\n",
       "\t9 & fare & 211.338 & 211.338 & 211.338 & 211.338 & $\\dots$ \\\\\n",
       "\t10 & cabin &  & B5 &  & B5 & $\\dots$ \\\\\n",
       "\t11 & embarked &  & S &  & S & $\\dots$ \\\\\n",
       "\t12 & boat &  & 2 &  & 2 & $\\dots$ \\\\\n",
       "\t13 & body & NaN &  &  &  & $\\dots$ \\\\\n",
       "\t14 & home.dest &  & St Louis, MO &  & St Louis, MO & $\\dots$ \\\\\n",
       "\\end{tabular}\n"
      ],
      "text/plain": [
       "\u001b[1m14×7 DataFrame\u001b[0m\n",
       "\u001b[1m Row \u001b[0m│\u001b[1m variable  \u001b[0m\u001b[1m mean    \u001b[0m\u001b[1m min                           \u001b[0m\u001b[1m median  \u001b[0m\u001b[1m max        \u001b[0m ⋯\n",
       "     │\u001b[90m Symbol    \u001b[0m\u001b[90m Union…  \u001b[0m\u001b[90m Any                           \u001b[0m\u001b[90m Union…  \u001b[0m\u001b[90m Any        \u001b[0m ⋯\n",
       "─────┼──────────────────────────────────────────────────────────────────────────\n",
       "   1 │ pclass     1.0      1                              1.0      1           ⋯\n",
       "   2 │ survived   1.0      1                              1.0      1\n",
       "   3 │ name      \u001b[90m         \u001b[0m Allen, Miss. Elisabeth Walton \u001b[90m         \u001b[0m Allen, Miss\n",
       "   4 │ sex       \u001b[90m         \u001b[0m female                        \u001b[90m         \u001b[0m female\n",
       "   5 │ age        29.0     29.0                           29.0     29.0        ⋯\n",
       "   6 │ sibsp      0.0      0                              0.0      0\n",
       "   7 │ parch      0.0      0                              0.0      0\n",
       "   8 │ ticket    \u001b[90m         \u001b[0m 24160                         \u001b[90m         \u001b[0m 24160\n",
       "   9 │ fare       211.338  211.338                        211.338  211.338     ⋯\n",
       "  10 │ cabin     \u001b[90m         \u001b[0m B5                            \u001b[90m         \u001b[0m B5\n",
       "  11 │ embarked  \u001b[90m         \u001b[0m S                             \u001b[90m         \u001b[0m S\n",
       "  12 │ boat      \u001b[90m         \u001b[0m 2                             \u001b[90m         \u001b[0m 2\n",
       "  13 │ body       NaN     \u001b[90m                               \u001b[0m\u001b[90m         \u001b[0m\u001b[90m            \u001b[0m ⋯\n",
       "  14 │ home.dest \u001b[90m         \u001b[0m St Louis, MO                  \u001b[90m         \u001b[0m St Louis, M\n",
       "\u001b[36m                                                               3 columns omitted\u001b[0m"
      ]
     },
     "metadata": {},
     "output_type": "display_data"
    }
   ],
   "source": [
    "@pipe df |> first(_, 1) |> describe(_)"
   ]
  },
  {
   "cell_type": "markdown",
   "id": "9fce28eb",
   "metadata": {},
   "source": [
    "## Ví dụ đơn giản"
   ]
  },
  {
   "cell_type": "code",
   "execution_count": null,
   "id": "73402018-ca2c-4b7e-aa7a-e68983cf8597",
   "metadata": {
    "tags": []
   },
   "outputs": [
    {
     "ename": "ErrorException",
     "evalue": "syntax: invalid identifier name \"?\"",
     "output_type": "error",
     "traceback": [
      "syntax: invalid identifier name \"?\"\n",
      "\n",
      "Stacktrace:\n",
      " [1] top-level scope\n",
      "   @ ~/git/data-wrangling-in-julia/nbs/01.pipeoperator_and_basic_data_wrangling.ipynb:2"
     ]
    }
   ],
   "source": [
    "# Kiểm tra thông tin của hàm first:\n",
    "?first"
   ]
  },
  {
   "cell_type": "code",
   "execution_count": null,
   "id": "e35c1a3b",
   "metadata": {},
   "outputs": [
    {
     "data": {
      "text/html": [
       "<div><div style = \"float: left;\"><span>5×14 DataFrame</span></div><div style = \"clear: both;\"></div></div><div class = \"data-frame\" style = \"overflow-x: scroll;\"><table class = \"data-frame\" style = \"margin-bottom: 6px;\"><thead><tr class = \"header\"><th class = \"rowNumber\" style = \"font-weight: bold; text-align: right;\">Row</th><th style = \"text-align: left;\">pclass</th><th style = \"text-align: left;\">survived</th><th style = \"text-align: left;\">name</th><th style = \"text-align: left;\">sex</th><th style = \"text-align: left;\">age</th><th style = \"text-align: left;\">sibsp</th><th style = \"text-align: left;\">parch</th><th style = \"text-align: left;\">ticket</th><th style = \"text-align: left;\">fare</th><th style = \"text-align: left;\">cabin</th><th style = \"text-align: left;\">embarked</th><th style = \"text-align: left;\">boat</th><th style = \"text-align: left;\">body</th><th style = \"text-align: left;\">home.dest</th></tr><tr class = \"subheader headerLastRow\"><th class = \"rowNumber\" style = \"font-weight: bold; text-align: right;\"></th><th title = \"Int64\" style = \"text-align: left;\">Int64</th><th title = \"Int64\" style = \"text-align: left;\">Int64</th><th title = \"String\" style = \"text-align: left;\">String</th><th title = \"String7\" style = \"text-align: left;\">String7</th><th title = \"Union{Missing, Float64}\" style = \"text-align: left;\">Float64?</th><th title = \"Int64\" style = \"text-align: left;\">Int64</th><th title = \"Int64\" style = \"text-align: left;\">Int64</th><th title = \"String31\" style = \"text-align: left;\">String31</th><th title = \"Union{Missing, Float64}\" style = \"text-align: left;\">Float64?</th><th title = \"Union{Missing, String15}\" style = \"text-align: left;\">String15?</th><th title = \"Union{Missing, String1}\" style = \"text-align: left;\">String1?</th><th title = \"Union{Missing, String7}\" style = \"text-align: left;\">String7?</th><th title = \"Union{Missing, Int64}\" style = \"text-align: left;\">Int64?</th><th title = \"Union{Missing, String}\" style = \"text-align: left;\">String?</th></tr></thead><tbody><tr><td class = \"rowNumber\" style = \"font-weight: bold; text-align: right;\">1</td><td style = \"text-align: right;\">1</td><td style = \"text-align: right;\">1</td><td style = \"text-align: left;\">Allen, Miss. Elisabeth Walton</td><td style = \"text-align: left;\">female</td><td style = \"text-align: right;\">29.0</td><td style = \"text-align: right;\">0</td><td style = \"text-align: right;\">0</td><td style = \"text-align: left;\">24160</td><td style = \"text-align: right;\">211.338</td><td style = \"text-align: left;\">B5</td><td style = \"text-align: left;\">S</td><td style = \"text-align: left;\">2</td><td style = \"font-style: italic; text-align: right;\">missing</td><td style = \"text-align: left;\">St Louis, MO</td></tr><tr><td class = \"rowNumber\" style = \"font-weight: bold; text-align: right;\">2</td><td style = \"text-align: right;\">1</td><td style = \"text-align: right;\">1</td><td style = \"text-align: left;\">Allison, Master. Hudson Trevor</td><td style = \"text-align: left;\">male</td><td style = \"text-align: right;\">0.9167</td><td style = \"text-align: right;\">1</td><td style = \"text-align: right;\">2</td><td style = \"text-align: left;\">113781</td><td style = \"text-align: right;\">151.55</td><td style = \"text-align: left;\">C22 C26</td><td style = \"text-align: left;\">S</td><td style = \"text-align: left;\">11</td><td style = \"font-style: italic; text-align: right;\">missing</td><td style = \"text-align: left;\">Montreal, PQ / Chesterville, ON</td></tr><tr><td class = \"rowNumber\" style = \"font-weight: bold; text-align: right;\">3</td><td style = \"text-align: right;\">1</td><td style = \"text-align: right;\">0</td><td style = \"text-align: left;\">Allison, Miss. Helen Loraine</td><td style = \"text-align: left;\">female</td><td style = \"text-align: right;\">2.0</td><td style = \"text-align: right;\">1</td><td style = \"text-align: right;\">2</td><td style = \"text-align: left;\">113781</td><td style = \"text-align: right;\">151.55</td><td style = \"text-align: left;\">C22 C26</td><td style = \"text-align: left;\">S</td><td style = \"font-style: italic; text-align: left;\">missing</td><td style = \"font-style: italic; text-align: right;\">missing</td><td style = \"text-align: left;\">Montreal, PQ / Chesterville, ON</td></tr><tr><td class = \"rowNumber\" style = \"font-weight: bold; text-align: right;\">4</td><td style = \"text-align: right;\">1</td><td style = \"text-align: right;\">0</td><td style = \"text-align: left;\">Allison, Mr. Hudson Joshua Creighton</td><td style = \"text-align: left;\">male</td><td style = \"text-align: right;\">30.0</td><td style = \"text-align: right;\">1</td><td style = \"text-align: right;\">2</td><td style = \"text-align: left;\">113781</td><td style = \"text-align: right;\">151.55</td><td style = \"text-align: left;\">C22 C26</td><td style = \"text-align: left;\">S</td><td style = \"font-style: italic; text-align: left;\">missing</td><td style = \"text-align: right;\">135</td><td style = \"text-align: left;\">Montreal, PQ / Chesterville, ON</td></tr><tr><td class = \"rowNumber\" style = \"font-weight: bold; text-align: right;\">5</td><td style = \"text-align: right;\">1</td><td style = \"text-align: right;\">0</td><td style = \"text-align: left;\">Allison, Mrs. Hudson J C (Bessie Waldo Daniels)</td><td style = \"text-align: left;\">female</td><td style = \"text-align: right;\">25.0</td><td style = \"text-align: right;\">1</td><td style = \"text-align: right;\">2</td><td style = \"text-align: left;\">113781</td><td style = \"text-align: right;\">151.55</td><td style = \"text-align: left;\">C22 C26</td><td style = \"text-align: left;\">S</td><td style = \"font-style: italic; text-align: left;\">missing</td><td style = \"font-style: italic; text-align: right;\">missing</td><td style = \"text-align: left;\">Montreal, PQ / Chesterville, ON</td></tr></tbody></table></div>"
      ],
      "text/latex": [
       "\\begin{tabular}{r|cccccc}\n",
       "\t& pclass & survived & name & sex & age & \\\\\n",
       "\t\\hline\n",
       "\t& Int64 & Int64 & String & String7 & Float64? & \\\\\n",
       "\t\\hline\n",
       "\t1 & 1 & 1 & Allen, Miss. Elisabeth Walton & female & 29.0 & $\\dots$ \\\\\n",
       "\t2 & 1 & 1 & Allison, Master. Hudson Trevor & male & 0.9167 & $\\dots$ \\\\\n",
       "\t3 & 1 & 0 & Allison, Miss. Helen Loraine & female & 2.0 & $\\dots$ \\\\\n",
       "\t4 & 1 & 0 & Allison, Mr. Hudson Joshua Creighton & male & 30.0 & $\\dots$ \\\\\n",
       "\t5 & 1 & 0 & Allison, Mrs. Hudson J C (Bessie Waldo Daniels) & female & 25.0 & $\\dots$ \\\\\n",
       "\\end{tabular}\n"
      ],
      "text/plain": [
       "\u001b[1m5×14 DataFrame\u001b[0m\n",
       "\u001b[1m Row \u001b[0m│\u001b[1m pclass \u001b[0m\u001b[1m survived \u001b[0m\u001b[1m name                              \u001b[0m\u001b[1m sex     \u001b[0m\u001b[1m age      \u001b[0m\u001b[1m\u001b[0m ⋯\n",
       "     │\u001b[90m Int64  \u001b[0m\u001b[90m Int64    \u001b[0m\u001b[90m String                            \u001b[0m\u001b[90m String7 \u001b[0m\u001b[90m Float64? \u001b[0m\u001b[90m\u001b[0m ⋯\n",
       "─────┼──────────────────────────────────────────────────────────────────────────\n",
       "   1 │      1         1  Allen, Miss. Elisabeth Walton      female    29.0     ⋯\n",
       "   2 │      1         1  Allison, Master. Hudson Trevor     male       0.9167\n",
       "   3 │      1         0  Allison, Miss. Helen Loraine       female     2.0\n",
       "   4 │      1         0  Allison, Mr. Hudson Joshua Creig…  male      30.0\n",
       "   5 │      1         0  Allison, Mrs. Hudson J C (Bessie…  female    25.0     ⋯\n",
       "\u001b[36m                                                               9 columns omitted\u001b[0m"
      ]
     },
     "execution_count": null,
     "metadata": {},
     "output_type": "execute_result"
    }
   ],
   "source": [
    "# Lấy 5 dòng dữ liệu đầu tiên:\n",
    "first(df, 5)"
   ]
  },
  {
   "cell_type": "code",
   "execution_count": null,
   "id": "c71f179c",
   "metadata": {},
   "outputs": [
    {
     "data": {
      "text/html": [
       "<div><div style = \"float: left;\"><span>5×14 DataFrame</span></div><div style = \"clear: both;\"></div></div><div class = \"data-frame\" style = \"overflow-x: scroll;\"><table class = \"data-frame\" style = \"margin-bottom: 6px;\"><thead><tr class = \"header\"><th class = \"rowNumber\" style = \"font-weight: bold; text-align: right;\">Row</th><th style = \"text-align: left;\">pclass</th><th style = \"text-align: left;\">survived</th><th style = \"text-align: left;\">name</th><th style = \"text-align: left;\">sex</th><th style = \"text-align: left;\">age</th><th style = \"text-align: left;\">sibsp</th><th style = \"text-align: left;\">parch</th><th style = \"text-align: left;\">ticket</th><th style = \"text-align: left;\">fare</th><th style = \"text-align: left;\">cabin</th><th style = \"text-align: left;\">embarked</th><th style = \"text-align: left;\">boat</th><th style = \"text-align: left;\">body</th><th style = \"text-align: left;\">home.dest</th></tr><tr class = \"subheader headerLastRow\"><th class = \"rowNumber\" style = \"font-weight: bold; text-align: right;\"></th><th title = \"Int64\" style = \"text-align: left;\">Int64</th><th title = \"Int64\" style = \"text-align: left;\">Int64</th><th title = \"String\" style = \"text-align: left;\">String</th><th title = \"String7\" style = \"text-align: left;\">String7</th><th title = \"Union{Missing, Float64}\" style = \"text-align: left;\">Float64?</th><th title = \"Int64\" style = \"text-align: left;\">Int64</th><th title = \"Int64\" style = \"text-align: left;\">Int64</th><th title = \"String31\" style = \"text-align: left;\">String31</th><th title = \"Union{Missing, Float64}\" style = \"text-align: left;\">Float64?</th><th title = \"Union{Missing, String15}\" style = \"text-align: left;\">String15?</th><th title = \"Union{Missing, String1}\" style = \"text-align: left;\">String1?</th><th title = \"Union{Missing, String7}\" style = \"text-align: left;\">String7?</th><th title = \"Union{Missing, Int64}\" style = \"text-align: left;\">Int64?</th><th title = \"Union{Missing, String}\" style = \"text-align: left;\">String?</th></tr></thead><tbody><tr><td class = \"rowNumber\" style = \"font-weight: bold; text-align: right;\">1</td><td style = \"text-align: right;\">1</td><td style = \"text-align: right;\">1</td><td style = \"text-align: left;\">Allen, Miss. Elisabeth Walton</td><td style = \"text-align: left;\">female</td><td style = \"text-align: right;\">29.0</td><td style = \"text-align: right;\">0</td><td style = \"text-align: right;\">0</td><td style = \"text-align: left;\">24160</td><td style = \"text-align: right;\">211.338</td><td style = \"text-align: left;\">B5</td><td style = \"text-align: left;\">S</td><td style = \"text-align: left;\">2</td><td style = \"font-style: italic; text-align: right;\">missing</td><td style = \"text-align: left;\">St Louis, MO</td></tr><tr><td class = \"rowNumber\" style = \"font-weight: bold; text-align: right;\">2</td><td style = \"text-align: right;\">1</td><td style = \"text-align: right;\">1</td><td style = \"text-align: left;\">Allison, Master. Hudson Trevor</td><td style = \"text-align: left;\">male</td><td style = \"text-align: right;\">0.9167</td><td style = \"text-align: right;\">1</td><td style = \"text-align: right;\">2</td><td style = \"text-align: left;\">113781</td><td style = \"text-align: right;\">151.55</td><td style = \"text-align: left;\">C22 C26</td><td style = \"text-align: left;\">S</td><td style = \"text-align: left;\">11</td><td style = \"font-style: italic; text-align: right;\">missing</td><td style = \"text-align: left;\">Montreal, PQ / Chesterville, ON</td></tr><tr><td class = \"rowNumber\" style = \"font-weight: bold; text-align: right;\">3</td><td style = \"text-align: right;\">1</td><td style = \"text-align: right;\">0</td><td style = \"text-align: left;\">Allison, Miss. Helen Loraine</td><td style = \"text-align: left;\">female</td><td style = \"text-align: right;\">2.0</td><td style = \"text-align: right;\">1</td><td style = \"text-align: right;\">2</td><td style = \"text-align: left;\">113781</td><td style = \"text-align: right;\">151.55</td><td style = \"text-align: left;\">C22 C26</td><td style = \"text-align: left;\">S</td><td style = \"font-style: italic; text-align: left;\">missing</td><td style = \"font-style: italic; text-align: right;\">missing</td><td style = \"text-align: left;\">Montreal, PQ / Chesterville, ON</td></tr><tr><td class = \"rowNumber\" style = \"font-weight: bold; text-align: right;\">4</td><td style = \"text-align: right;\">1</td><td style = \"text-align: right;\">0</td><td style = \"text-align: left;\">Allison, Mr. Hudson Joshua Creighton</td><td style = \"text-align: left;\">male</td><td style = \"text-align: right;\">30.0</td><td style = \"text-align: right;\">1</td><td style = \"text-align: right;\">2</td><td style = \"text-align: left;\">113781</td><td style = \"text-align: right;\">151.55</td><td style = \"text-align: left;\">C22 C26</td><td style = \"text-align: left;\">S</td><td style = \"font-style: italic; text-align: left;\">missing</td><td style = \"text-align: right;\">135</td><td style = \"text-align: left;\">Montreal, PQ / Chesterville, ON</td></tr><tr><td class = \"rowNumber\" style = \"font-weight: bold; text-align: right;\">5</td><td style = \"text-align: right;\">1</td><td style = \"text-align: right;\">0</td><td style = \"text-align: left;\">Allison, Mrs. Hudson J C (Bessie Waldo Daniels)</td><td style = \"text-align: left;\">female</td><td style = \"text-align: right;\">25.0</td><td style = \"text-align: right;\">1</td><td style = \"text-align: right;\">2</td><td style = \"text-align: left;\">113781</td><td style = \"text-align: right;\">151.55</td><td style = \"text-align: left;\">C22 C26</td><td style = \"text-align: left;\">S</td><td style = \"font-style: italic; text-align: left;\">missing</td><td style = \"font-style: italic; text-align: right;\">missing</td><td style = \"text-align: left;\">Montreal, PQ / Chesterville, ON</td></tr></tbody></table></div>"
      ],
      "text/latex": [
       "\\begin{tabular}{r|cccccc}\n",
       "\t& pclass & survived & name & sex & age & \\\\\n",
       "\t\\hline\n",
       "\t& Int64 & Int64 & String & String7 & Float64? & \\\\\n",
       "\t\\hline\n",
       "\t1 & 1 & 1 & Allen, Miss. Elisabeth Walton & female & 29.0 & $\\dots$ \\\\\n",
       "\t2 & 1 & 1 & Allison, Master. Hudson Trevor & male & 0.9167 & $\\dots$ \\\\\n",
       "\t3 & 1 & 0 & Allison, Miss. Helen Loraine & female & 2.0 & $\\dots$ \\\\\n",
       "\t4 & 1 & 0 & Allison, Mr. Hudson Joshua Creighton & male & 30.0 & $\\dots$ \\\\\n",
       "\t5 & 1 & 0 & Allison, Mrs. Hudson J C (Bessie Waldo Daniels) & female & 25.0 & $\\dots$ \\\\\n",
       "\\end{tabular}\n"
      ],
      "text/plain": [
       "\u001b[1m5×14 DataFrame\u001b[0m\n",
       "\u001b[1m Row \u001b[0m│\u001b[1m pclass \u001b[0m\u001b[1m survived \u001b[0m\u001b[1m name                              \u001b[0m\u001b[1m sex     \u001b[0m\u001b[1m age      \u001b[0m\u001b[1m\u001b[0m ⋯\n",
       "     │\u001b[90m Int64  \u001b[0m\u001b[90m Int64    \u001b[0m\u001b[90m String                            \u001b[0m\u001b[90m String7 \u001b[0m\u001b[90m Float64? \u001b[0m\u001b[90m\u001b[0m ⋯\n",
       "─────┼──────────────────────────────────────────────────────────────────────────\n",
       "   1 │      1         1  Allen, Miss. Elisabeth Walton      female    29.0     ⋯\n",
       "   2 │      1         1  Allison, Master. Hudson Trevor     male       0.9167\n",
       "   3 │      1         0  Allison, Miss. Helen Loraine       female     2.0\n",
       "   4 │      1         0  Allison, Mr. Hudson Joshua Creig…  male      30.0\n",
       "   5 │      1         0  Allison, Mrs. Hudson J C (Bessie…  female    25.0     ⋯\n",
       "\u001b[36m                                                               9 columns omitted\u001b[0m"
      ]
     },
     "metadata": {},
     "output_type": "display_data"
    }
   ],
   "source": [
    "# Tương đương với:\n",
    "@pipe df |> first(_, 5)"
   ]
  },
  {
   "cell_type": "code",
   "execution_count": null,
   "id": "bf381e9f",
   "metadata": {},
   "outputs": [
    {
     "data": {
      "text/html": [
       "<div><div style = \"float: left;\"><span>1309×3 DataFrame</span></div><div style = \"float: right;\"><span style = \"font-style: italic;\">1284 rows omitted</span></div><div style = \"clear: both;\"></div></div><div class = \"data-frame\" style = \"overflow-x: scroll;\"><table class = \"data-frame\" style = \"margin-bottom: 6px;\"><thead><tr class = \"header\"><th class = \"rowNumber\" style = \"font-weight: bold; text-align: right;\">Row</th><th style = \"text-align: left;\">sex</th><th style = \"text-align: left;\">age</th><th style = \"text-align: left;\">survived</th></tr><tr class = \"subheader headerLastRow\"><th class = \"rowNumber\" style = \"font-weight: bold; text-align: right;\"></th><th title = \"String7\" style = \"text-align: left;\">String7</th><th title = \"Union{Missing, Float64}\" style = \"text-align: left;\">Float64?</th><th title = \"Int64\" style = \"text-align: left;\">Int64</th></tr></thead><tbody><tr><td class = \"rowNumber\" style = \"font-weight: bold; text-align: right;\">1</td><td style = \"text-align: left;\">female</td><td style = \"text-align: right;\">29.0</td><td style = \"text-align: right;\">1</td></tr><tr><td class = \"rowNumber\" style = \"font-weight: bold; text-align: right;\">2</td><td style = \"text-align: left;\">male</td><td style = \"text-align: right;\">0.9167</td><td style = \"text-align: right;\">1</td></tr><tr><td class = \"rowNumber\" style = \"font-weight: bold; text-align: right;\">3</td><td style = \"text-align: left;\">female</td><td style = \"text-align: right;\">2.0</td><td style = \"text-align: right;\">0</td></tr><tr><td class = \"rowNumber\" style = \"font-weight: bold; text-align: right;\">4</td><td style = \"text-align: left;\">male</td><td style = \"text-align: right;\">30.0</td><td style = \"text-align: right;\">0</td></tr><tr><td class = \"rowNumber\" style = \"font-weight: bold; text-align: right;\">5</td><td style = \"text-align: left;\">female</td><td style = \"text-align: right;\">25.0</td><td style = \"text-align: right;\">0</td></tr><tr><td class = \"rowNumber\" style = \"font-weight: bold; text-align: right;\">6</td><td style = \"text-align: left;\">male</td><td style = \"text-align: right;\">48.0</td><td style = \"text-align: right;\">1</td></tr><tr><td class = \"rowNumber\" style = \"font-weight: bold; text-align: right;\">7</td><td style = \"text-align: left;\">female</td><td style = \"text-align: right;\">63.0</td><td style = \"text-align: right;\">1</td></tr><tr><td class = \"rowNumber\" style = \"font-weight: bold; text-align: right;\">8</td><td style = \"text-align: left;\">male</td><td style = \"text-align: right;\">39.0</td><td style = \"text-align: right;\">0</td></tr><tr><td class = \"rowNumber\" style = \"font-weight: bold; text-align: right;\">9</td><td style = \"text-align: left;\">female</td><td style = \"text-align: right;\">53.0</td><td style = \"text-align: right;\">1</td></tr><tr><td class = \"rowNumber\" style = \"font-weight: bold; text-align: right;\">10</td><td style = \"text-align: left;\">male</td><td style = \"text-align: right;\">71.0</td><td style = \"text-align: right;\">0</td></tr><tr><td class = \"rowNumber\" style = \"font-weight: bold; text-align: right;\">11</td><td style = \"text-align: left;\">male</td><td style = \"text-align: right;\">47.0</td><td style = \"text-align: right;\">0</td></tr><tr><td class = \"rowNumber\" style = \"font-weight: bold; text-align: right;\">12</td><td style = \"text-align: left;\">female</td><td style = \"text-align: right;\">18.0</td><td style = \"text-align: right;\">1</td></tr><tr><td class = \"rowNumber\" style = \"font-weight: bold; text-align: right;\">13</td><td style = \"text-align: left;\">female</td><td style = \"text-align: right;\">24.0</td><td style = \"text-align: right;\">1</td></tr><tr><td style = \"text-align: right;\">&vellip;</td><td style = \"text-align: right;\">&vellip;</td><td style = \"text-align: right;\">&vellip;</td><td style = \"text-align: right;\">&vellip;</td></tr><tr><td class = \"rowNumber\" style = \"font-weight: bold; text-align: right;\">1298</td><td style = \"text-align: left;\">male</td><td style = \"font-style: italic; text-align: right;\">missing</td><td style = \"text-align: right;\">0</td></tr><tr><td class = \"rowNumber\" style = \"font-weight: bold; text-align: right;\">1299</td><td style = \"text-align: left;\">male</td><td style = \"text-align: right;\">36.0</td><td style = \"text-align: right;\">0</td></tr><tr><td class = \"rowNumber\" style = \"font-weight: bold; text-align: right;\">1300</td><td style = \"text-align: left;\">male</td><td style = \"text-align: right;\">27.0</td><td style = \"text-align: right;\">0</td></tr><tr><td class = \"rowNumber\" style = \"font-weight: bold; text-align: right;\">1301</td><td style = \"text-align: left;\">female</td><td style = \"text-align: right;\">15.0</td><td style = \"text-align: right;\">1</td></tr><tr><td class = \"rowNumber\" style = \"font-weight: bold; text-align: right;\">1302</td><td style = \"text-align: left;\">male</td><td style = \"text-align: right;\">45.5</td><td style = \"text-align: right;\">0</td></tr><tr><td class = \"rowNumber\" style = \"font-weight: bold; text-align: right;\">1303</td><td style = \"text-align: left;\">male</td><td style = \"font-style: italic; text-align: right;\">missing</td><td style = \"text-align: right;\">0</td></tr><tr><td class = \"rowNumber\" style = \"font-weight: bold; text-align: right;\">1304</td><td style = \"text-align: left;\">male</td><td style = \"font-style: italic; text-align: right;\">missing</td><td style = \"text-align: right;\">0</td></tr><tr><td class = \"rowNumber\" style = \"font-weight: bold; text-align: right;\">1305</td><td style = \"text-align: left;\">female</td><td style = \"text-align: right;\">14.5</td><td style = \"text-align: right;\">0</td></tr><tr><td class = \"rowNumber\" style = \"font-weight: bold; text-align: right;\">1306</td><td style = \"text-align: left;\">female</td><td style = \"font-style: italic; text-align: right;\">missing</td><td style = \"text-align: right;\">0</td></tr><tr><td class = \"rowNumber\" style = \"font-weight: bold; text-align: right;\">1307</td><td style = \"text-align: left;\">male</td><td style = \"text-align: right;\">26.5</td><td style = \"text-align: right;\">0</td></tr><tr><td class = \"rowNumber\" style = \"font-weight: bold; text-align: right;\">1308</td><td style = \"text-align: left;\">male</td><td style = \"text-align: right;\">27.0</td><td style = \"text-align: right;\">0</td></tr><tr><td class = \"rowNumber\" style = \"font-weight: bold; text-align: right;\">1309</td><td style = \"text-align: left;\">male</td><td style = \"text-align: right;\">29.0</td><td style = \"text-align: right;\">0</td></tr></tbody></table></div>"
      ],
      "text/latex": [
       "\\begin{tabular}{r|ccc}\n",
       "\t& sex & age & survived\\\\\n",
       "\t\\hline\n",
       "\t& String7 & Float64? & Int64\\\\\n",
       "\t\\hline\n",
       "\t1 & female & 29.0 & 1 \\\\\n",
       "\t2 & male & 0.9167 & 1 \\\\\n",
       "\t3 & female & 2.0 & 0 \\\\\n",
       "\t4 & male & 30.0 & 0 \\\\\n",
       "\t5 & female & 25.0 & 0 \\\\\n",
       "\t6 & male & 48.0 & 1 \\\\\n",
       "\t7 & female & 63.0 & 1 \\\\\n",
       "\t8 & male & 39.0 & 0 \\\\\n",
       "\t9 & female & 53.0 & 1 \\\\\n",
       "\t10 & male & 71.0 & 0 \\\\\n",
       "\t11 & male & 47.0 & 0 \\\\\n",
       "\t12 & female & 18.0 & 1 \\\\\n",
       "\t13 & female & 24.0 & 1 \\\\\n",
       "\t14 & female & 26.0 & 1 \\\\\n",
       "\t15 & male & 80.0 & 1 \\\\\n",
       "\t16 & male & \\emph{missing} & 0 \\\\\n",
       "\t17 & male & 24.0 & 0 \\\\\n",
       "\t18 & female & 50.0 & 1 \\\\\n",
       "\t19 & female & 32.0 & 1 \\\\\n",
       "\t20 & male & 36.0 & 0 \\\\\n",
       "\t21 & male & 37.0 & 1 \\\\\n",
       "\t22 & female & 47.0 & 1 \\\\\n",
       "\t23 & male & 26.0 & 1 \\\\\n",
       "\t24 & female & 42.0 & 1 \\\\\n",
       "\t25 & female & 29.0 & 1 \\\\\n",
       "\t26 & male & 25.0 & 0 \\\\\n",
       "\t27 & male & 25.0 & 1 \\\\\n",
       "\t28 & female & 19.0 & 1 \\\\\n",
       "\t29 & female & 35.0 & 1 \\\\\n",
       "\t30 & male & 28.0 & 1 \\\\\n",
       "\t$\\dots$ & $\\dots$ & $\\dots$ & $\\dots$ \\\\\n",
       "\\end{tabular}\n"
      ],
      "text/plain": [
       "\u001b[1m1309×3 DataFrame\u001b[0m\n",
       "\u001b[1m  Row \u001b[0m│\u001b[1m sex     \u001b[0m\u001b[1m age          \u001b[0m\u001b[1m survived \u001b[0m\n",
       "      │\u001b[90m String7 \u001b[0m\u001b[90m Float64?     \u001b[0m\u001b[90m Int64    \u001b[0m\n",
       "──────┼─────────────────────────────────\n",
       "    1 │ female        29.0            1\n",
       "    2 │ male           0.9167         1\n",
       "    3 │ female         2.0            0\n",
       "    4 │ male          30.0            0\n",
       "    5 │ female        25.0            0\n",
       "    6 │ male          48.0            1\n",
       "    7 │ female        63.0            1\n",
       "    8 │ male          39.0            0\n",
       "    9 │ female        53.0            1\n",
       "   10 │ male          71.0            0\n",
       "   11 │ male          47.0            0\n",
       "  ⋮   │    ⋮          ⋮           ⋮\n",
       " 1300 │ male          27.0            0\n",
       " 1301 │ female        15.0            1\n",
       " 1302 │ male          45.5            0\n",
       " 1303 │ male    \u001b[90m missing      \u001b[0m        0\n",
       " 1304 │ male    \u001b[90m missing      \u001b[0m        0\n",
       " 1305 │ female        14.5            0\n",
       " 1306 │ female  \u001b[90m missing      \u001b[0m        0\n",
       " 1307 │ male          26.5            0\n",
       " 1308 │ male          27.0            0\n",
       " 1309 │ male          29.0            0\n",
       "\u001b[36m                       1288 rows omitted\u001b[0m"
      ]
     },
     "execution_count": null,
     "metadata": {},
     "output_type": "execute_result"
    }
   ],
   "source": [
    "# Lấy dữ liệu cột sex, age và survived:\n",
    "select(df, [:sex, :age, :survived])"
   ]
  },
  {
   "cell_type": "code",
   "execution_count": null,
   "id": "ce17eb7b",
   "metadata": {},
   "outputs": [
    {
     "data": {
      "text/html": [
       "<div><div style = \"float: left;\"><span>5×3 DataFrame</span></div><div style = \"clear: both;\"></div></div><div class = \"data-frame\" style = \"overflow-x: scroll;\"><table class = \"data-frame\" style = \"margin-bottom: 6px;\"><thead><tr class = \"header\"><th class = \"rowNumber\" style = \"font-weight: bold; text-align: right;\">Row</th><th style = \"text-align: left;\">sex</th><th style = \"text-align: left;\">age</th><th style = \"text-align: left;\">survived</th></tr><tr class = \"subheader headerLastRow\"><th class = \"rowNumber\" style = \"font-weight: bold; text-align: right;\"></th><th title = \"String7\" style = \"text-align: left;\">String7</th><th title = \"Union{Missing, Float64}\" style = \"text-align: left;\">Float64?</th><th title = \"Int64\" style = \"text-align: left;\">Int64</th></tr></thead><tbody><tr><td class = \"rowNumber\" style = \"font-weight: bold; text-align: right;\">1</td><td style = \"text-align: left;\">female</td><td style = \"text-align: right;\">29.0</td><td style = \"text-align: right;\">1</td></tr><tr><td class = \"rowNumber\" style = \"font-weight: bold; text-align: right;\">2</td><td style = \"text-align: left;\">male</td><td style = \"text-align: right;\">0.9167</td><td style = \"text-align: right;\">1</td></tr><tr><td class = \"rowNumber\" style = \"font-weight: bold; text-align: right;\">3</td><td style = \"text-align: left;\">female</td><td style = \"text-align: right;\">2.0</td><td style = \"text-align: right;\">0</td></tr><tr><td class = \"rowNumber\" style = \"font-weight: bold; text-align: right;\">4</td><td style = \"text-align: left;\">male</td><td style = \"text-align: right;\">30.0</td><td style = \"text-align: right;\">0</td></tr><tr><td class = \"rowNumber\" style = \"font-weight: bold; text-align: right;\">5</td><td style = \"text-align: left;\">female</td><td style = \"text-align: right;\">25.0</td><td style = \"text-align: right;\">0</td></tr></tbody></table></div>"
      ],
      "text/latex": [
       "\\begin{tabular}{r|ccc}\n",
       "\t& sex & age & survived\\\\\n",
       "\t\\hline\n",
       "\t& String7 & Float64? & Int64\\\\\n",
       "\t\\hline\n",
       "\t1 & female & 29.0 & 1 \\\\\n",
       "\t2 & male & 0.9167 & 1 \\\\\n",
       "\t3 & female & 2.0 & 0 \\\\\n",
       "\t4 & male & 30.0 & 0 \\\\\n",
       "\t5 & female & 25.0 & 0 \\\\\n",
       "\\end{tabular}\n"
      ],
      "text/plain": [
       "\u001b[1m5×3 DataFrame\u001b[0m\n",
       "\u001b[1m Row \u001b[0m│\u001b[1m sex     \u001b[0m\u001b[1m age      \u001b[0m\u001b[1m survived \u001b[0m\n",
       "     │\u001b[90m String7 \u001b[0m\u001b[90m Float64? \u001b[0m\u001b[90m Int64    \u001b[0m\n",
       "─────┼─────────────────────────────\n",
       "   1 │ female    29.0            1\n",
       "   2 │ male       0.9167         1\n",
       "   3 │ female     2.0            0\n",
       "   4 │ male      30.0            0\n",
       "   5 │ female    25.0            0"
      ]
     },
     "metadata": {},
     "output_type": "display_data"
    }
   ],
   "source": [
    "# Tương đương với:\n",
    "@pipe df |> select(_, [:sex, :age, :survived]) |> first(_, 5)"
   ]
  },
  {
   "cell_type": "code",
   "execution_count": null,
   "id": "5a5ec317",
   "metadata": {},
   "outputs": [
    {
     "data": {
      "text/html": [
       "<div><div style = \"float: left;\"><span>466×14 DataFrame</span></div><div style = \"float: right;\"><span style = \"font-style: italic;\">441 rows omitted</span></div><div style = \"clear: both;\"></div></div><div class = \"data-frame\" style = \"overflow-x: scroll;\"><table class = \"data-frame\" style = \"margin-bottom: 6px;\"><thead><tr class = \"header\"><th class = \"rowNumber\" style = \"font-weight: bold; text-align: right;\">Row</th><th style = \"text-align: left;\">pclass</th><th style = \"text-align: left;\">survived</th><th style = \"text-align: left;\">name</th><th style = \"text-align: left;\">sex</th><th style = \"text-align: left;\">age</th><th style = \"text-align: left;\">sibsp</th><th style = \"text-align: left;\">parch</th><th style = \"text-align: left;\">ticket</th><th style = \"text-align: left;\">fare</th><th style = \"text-align: left;\">cabin</th><th style = \"text-align: left;\">embarked</th><th style = \"text-align: left;\">boat</th><th style = \"text-align: left;\">body</th><th style = \"text-align: left;\">home.dest</th></tr><tr class = \"subheader headerLastRow\"><th class = \"rowNumber\" style = \"font-weight: bold; text-align: right;\"></th><th title = \"Int64\" style = \"text-align: left;\">Int64</th><th title = \"Int64\" style = \"text-align: left;\">Int64</th><th title = \"String\" style = \"text-align: left;\">String</th><th title = \"String7\" style = \"text-align: left;\">String7</th><th title = \"Union{Missing, Float64}\" style = \"text-align: left;\">Float64?</th><th title = \"Int64\" style = \"text-align: left;\">Int64</th><th title = \"Int64\" style = \"text-align: left;\">Int64</th><th title = \"String31\" style = \"text-align: left;\">String31</th><th title = \"Union{Missing, Float64}\" style = \"text-align: left;\">Float64?</th><th title = \"Union{Missing, String15}\" style = \"text-align: left;\">String15?</th><th title = \"Union{Missing, String1}\" style = \"text-align: left;\">String1?</th><th title = \"Union{Missing, String7}\" style = \"text-align: left;\">String7?</th><th title = \"Union{Missing, Int64}\" style = \"text-align: left;\">Int64?</th><th title = \"Union{Missing, String}\" style = \"text-align: left;\">String?</th></tr></thead><tbody><tr><td class = \"rowNumber\" style = \"font-weight: bold; text-align: right;\">1</td><td style = \"text-align: right;\">1</td><td style = \"text-align: right;\">1</td><td style = \"text-align: left;\">Allen, Miss. Elisabeth Walton</td><td style = \"text-align: left;\">female</td><td style = \"text-align: right;\">29.0</td><td style = \"text-align: right;\">0</td><td style = \"text-align: right;\">0</td><td style = \"text-align: left;\">24160</td><td style = \"text-align: right;\">211.338</td><td style = \"text-align: left;\">B5</td><td style = \"text-align: left;\">S</td><td style = \"text-align: left;\">2</td><td style = \"font-style: italic; text-align: right;\">missing</td><td style = \"text-align: left;\">St Louis, MO</td></tr><tr><td class = \"rowNumber\" style = \"font-weight: bold; text-align: right;\">2</td><td style = \"text-align: right;\">1</td><td style = \"text-align: right;\">0</td><td style = \"text-align: left;\">Allison, Miss. Helen Loraine</td><td style = \"text-align: left;\">female</td><td style = \"text-align: right;\">2.0</td><td style = \"text-align: right;\">1</td><td style = \"text-align: right;\">2</td><td style = \"text-align: left;\">113781</td><td style = \"text-align: right;\">151.55</td><td style = \"text-align: left;\">C22 C26</td><td style = \"text-align: left;\">S</td><td style = \"font-style: italic; text-align: left;\">missing</td><td style = \"font-style: italic; text-align: right;\">missing</td><td style = \"text-align: left;\">Montreal, PQ / Chesterville, ON</td></tr><tr><td class = \"rowNumber\" style = \"font-weight: bold; text-align: right;\">3</td><td style = \"text-align: right;\">1</td><td style = \"text-align: right;\">0</td><td style = \"text-align: left;\">Allison, Mrs. Hudson J C (Bessie Waldo Daniels)</td><td style = \"text-align: left;\">female</td><td style = \"text-align: right;\">25.0</td><td style = \"text-align: right;\">1</td><td style = \"text-align: right;\">2</td><td style = \"text-align: left;\">113781</td><td style = \"text-align: right;\">151.55</td><td style = \"text-align: left;\">C22 C26</td><td style = \"text-align: left;\">S</td><td style = \"font-style: italic; text-align: left;\">missing</td><td style = \"font-style: italic; text-align: right;\">missing</td><td style = \"text-align: left;\">Montreal, PQ / Chesterville, ON</td></tr><tr><td class = \"rowNumber\" style = \"font-weight: bold; text-align: right;\">4</td><td style = \"text-align: right;\">1</td><td style = \"text-align: right;\">1</td><td style = \"text-align: left;\">Andrews, Miss. Kornelia Theodosia</td><td style = \"text-align: left;\">female</td><td style = \"text-align: right;\">63.0</td><td style = \"text-align: right;\">1</td><td style = \"text-align: right;\">0</td><td style = \"text-align: left;\">13502</td><td style = \"text-align: right;\">77.9583</td><td style = \"text-align: left;\">D7</td><td style = \"text-align: left;\">S</td><td style = \"text-align: left;\">10</td><td style = \"font-style: italic; text-align: right;\">missing</td><td style = \"text-align: left;\">Hudson, NY</td></tr><tr><td class = \"rowNumber\" style = \"font-weight: bold; text-align: right;\">5</td><td style = \"text-align: right;\">1</td><td style = \"text-align: right;\">1</td><td style = \"text-align: left;\">Appleton, Mrs. Edward Dale (Charlotte Lamson)</td><td style = \"text-align: left;\">female</td><td style = \"text-align: right;\">53.0</td><td style = \"text-align: right;\">2</td><td style = \"text-align: right;\">0</td><td style = \"text-align: left;\">11769</td><td style = \"text-align: right;\">51.4792</td><td style = \"text-align: left;\">C101</td><td style = \"text-align: left;\">S</td><td style = \"text-align: left;\">D</td><td style = \"font-style: italic; text-align: right;\">missing</td><td style = \"text-align: left;\">Bayside, Queens, NY</td></tr><tr><td class = \"rowNumber\" style = \"font-weight: bold; text-align: right;\">6</td><td style = \"text-align: right;\">1</td><td style = \"text-align: right;\">1</td><td style = \"text-align: left;\">Astor, Mrs. John Jacob (Madeleine Talmadge Force)</td><td style = \"text-align: left;\">female</td><td style = \"text-align: right;\">18.0</td><td style = \"text-align: right;\">1</td><td style = \"text-align: right;\">0</td><td style = \"text-align: left;\">PC 17757</td><td style = \"text-align: right;\">227.525</td><td style = \"text-align: left;\">C62 C64</td><td style = \"text-align: left;\">C</td><td style = \"text-align: left;\">4</td><td style = \"font-style: italic; text-align: right;\">missing</td><td style = \"text-align: left;\">New York, NY</td></tr><tr><td class = \"rowNumber\" style = \"font-weight: bold; text-align: right;\">7</td><td style = \"text-align: right;\">1</td><td style = \"text-align: right;\">1</td><td style = \"text-align: left;\">Aubart, Mme. Leontine Pauline</td><td style = \"text-align: left;\">female</td><td style = \"text-align: right;\">24.0</td><td style = \"text-align: right;\">0</td><td style = \"text-align: right;\">0</td><td style = \"text-align: left;\">PC 17477</td><td style = \"text-align: right;\">69.3</td><td style = \"text-align: left;\">B35</td><td style = \"text-align: left;\">C</td><td style = \"text-align: left;\">9</td><td style = \"font-style: italic; text-align: right;\">missing</td><td style = \"text-align: left;\">Paris, France</td></tr><tr><td class = \"rowNumber\" style = \"font-weight: bold; text-align: right;\">8</td><td style = \"text-align: right;\">1</td><td style = \"text-align: right;\">1</td><td style = \"text-align: left;\">Barber, Miss. Ellen &apos;Nellie&apos;</td><td style = \"text-align: left;\">female</td><td style = \"text-align: right;\">26.0</td><td style = \"text-align: right;\">0</td><td style = \"text-align: right;\">0</td><td style = \"text-align: left;\">19877</td><td style = \"text-align: right;\">78.85</td><td style = \"font-style: italic; text-align: left;\">missing</td><td style = \"text-align: left;\">S</td><td style = \"text-align: left;\">6</td><td style = \"font-style: italic; text-align: right;\">missing</td><td style = \"font-style: italic; text-align: left;\">missing</td></tr><tr><td class = \"rowNumber\" style = \"font-weight: bold; text-align: right;\">9</td><td style = \"text-align: right;\">1</td><td style = \"text-align: right;\">1</td><td style = \"text-align: left;\">Baxter, Mrs. James (Helene DeLaudeniere Chaput)</td><td style = \"text-align: left;\">female</td><td style = \"text-align: right;\">50.0</td><td style = \"text-align: right;\">0</td><td style = \"text-align: right;\">1</td><td style = \"text-align: left;\">PC 17558</td><td style = \"text-align: right;\">247.521</td><td style = \"text-align: left;\">B58 B60</td><td style = \"text-align: left;\">C</td><td style = \"text-align: left;\">6</td><td style = \"font-style: italic; text-align: right;\">missing</td><td style = \"text-align: left;\">Montreal, PQ</td></tr><tr><td class = \"rowNumber\" style = \"font-weight: bold; text-align: right;\">10</td><td style = \"text-align: right;\">1</td><td style = \"text-align: right;\">1</td><td style = \"text-align: left;\">Bazzani, Miss. Albina</td><td style = \"text-align: left;\">female</td><td style = \"text-align: right;\">32.0</td><td style = \"text-align: right;\">0</td><td style = \"text-align: right;\">0</td><td style = \"text-align: left;\">11813</td><td style = \"text-align: right;\">76.2917</td><td style = \"text-align: left;\">D15</td><td style = \"text-align: left;\">C</td><td style = \"text-align: left;\">8</td><td style = \"font-style: italic; text-align: right;\">missing</td><td style = \"font-style: italic; text-align: left;\">missing</td></tr><tr><td class = \"rowNumber\" style = \"font-weight: bold; text-align: right;\">11</td><td style = \"text-align: right;\">1</td><td style = \"text-align: right;\">1</td><td style = \"text-align: left;\">Beckwith, Mrs. Richard Leonard (Sallie Monypeny)</td><td style = \"text-align: left;\">female</td><td style = \"text-align: right;\">47.0</td><td style = \"text-align: right;\">1</td><td style = \"text-align: right;\">1</td><td style = \"text-align: left;\">11751</td><td style = \"text-align: right;\">52.5542</td><td style = \"text-align: left;\">D35</td><td style = \"text-align: left;\">S</td><td style = \"text-align: left;\">5</td><td style = \"font-style: italic; text-align: right;\">missing</td><td style = \"text-align: left;\">New York, NY</td></tr><tr><td class = \"rowNumber\" style = \"font-weight: bold; text-align: right;\">12</td><td style = \"text-align: right;\">1</td><td style = \"text-align: right;\">1</td><td style = \"text-align: left;\">Bidois, Miss. Rosalie</td><td style = \"text-align: left;\">female</td><td style = \"text-align: right;\">42.0</td><td style = \"text-align: right;\">0</td><td style = \"text-align: right;\">0</td><td style = \"text-align: left;\">PC 17757</td><td style = \"text-align: right;\">227.525</td><td style = \"font-style: italic; text-align: left;\">missing</td><td style = \"text-align: left;\">C</td><td style = \"text-align: left;\">4</td><td style = \"font-style: italic; text-align: right;\">missing</td><td style = \"font-style: italic; text-align: left;\">missing</td></tr><tr><td class = \"rowNumber\" style = \"font-weight: bold; text-align: right;\">13</td><td style = \"text-align: right;\">1</td><td style = \"text-align: right;\">1</td><td style = \"text-align: left;\">Bird, Miss. Ellen</td><td style = \"text-align: left;\">female</td><td style = \"text-align: right;\">29.0</td><td style = \"text-align: right;\">0</td><td style = \"text-align: right;\">0</td><td style = \"text-align: left;\">PC 17483</td><td style = \"text-align: right;\">221.779</td><td style = \"text-align: left;\">C97</td><td style = \"text-align: left;\">S</td><td style = \"text-align: left;\">8</td><td style = \"font-style: italic; text-align: right;\">missing</td><td style = \"font-style: italic; text-align: left;\">missing</td></tr><tr><td style = \"text-align: right;\">&vellip;</td><td style = \"text-align: right;\">&vellip;</td><td style = \"text-align: right;\">&vellip;</td><td style = \"text-align: right;\">&vellip;</td><td style = \"text-align: right;\">&vellip;</td><td style = \"text-align: right;\">&vellip;</td><td style = \"text-align: right;\">&vellip;</td><td style = \"text-align: right;\">&vellip;</td><td style = \"text-align: right;\">&vellip;</td><td style = \"text-align: right;\">&vellip;</td><td style = \"text-align: right;\">&vellip;</td><td style = \"text-align: right;\">&vellip;</td><td style = \"text-align: right;\">&vellip;</td><td style = \"text-align: right;\">&vellip;</td><td style = \"text-align: right;\">&vellip;</td></tr><tr><td class = \"rowNumber\" style = \"font-weight: bold; text-align: right;\">455</td><td style = \"text-align: right;\">3</td><td style = \"text-align: right;\">1</td><td style = \"text-align: left;\">Turja, Miss. Anna Sofia</td><td style = \"text-align: left;\">female</td><td style = \"text-align: right;\">18.0</td><td style = \"text-align: right;\">0</td><td style = \"text-align: right;\">0</td><td style = \"text-align: left;\">4138</td><td style = \"text-align: right;\">9.8417</td><td style = \"font-style: italic; text-align: left;\">missing</td><td style = \"text-align: left;\">S</td><td style = \"text-align: left;\">15</td><td style = \"font-style: italic; text-align: right;\">missing</td><td style = \"font-style: italic; text-align: left;\">missing</td></tr><tr><td class = \"rowNumber\" style = \"font-weight: bold; text-align: right;\">456</td><td style = \"text-align: right;\">3</td><td style = \"text-align: right;\">1</td><td style = \"text-align: left;\">Turkula, Mrs. (Hedwig)</td><td style = \"text-align: left;\">female</td><td style = \"text-align: right;\">63.0</td><td style = \"text-align: right;\">0</td><td style = \"text-align: right;\">0</td><td style = \"text-align: left;\">4134</td><td style = \"text-align: right;\">9.5875</td><td style = \"font-style: italic; text-align: left;\">missing</td><td style = \"text-align: left;\">S</td><td style = \"text-align: left;\">15</td><td style = \"font-style: italic; text-align: right;\">missing</td><td style = \"font-style: italic; text-align: left;\">missing</td></tr><tr><td class = \"rowNumber\" style = \"font-weight: bold; text-align: right;\">457</td><td style = \"text-align: right;\">3</td><td style = \"text-align: right;\">0</td><td style = \"text-align: left;\">Van Impe, Miss. Catharina</td><td style = \"text-align: left;\">female</td><td style = \"text-align: right;\">10.0</td><td style = \"text-align: right;\">0</td><td style = \"text-align: right;\">2</td><td style = \"text-align: left;\">345773</td><td style = \"text-align: right;\">24.15</td><td style = \"font-style: italic; text-align: left;\">missing</td><td style = \"text-align: left;\">S</td><td style = \"font-style: italic; text-align: left;\">missing</td><td style = \"font-style: italic; text-align: right;\">missing</td><td style = \"font-style: italic; text-align: left;\">missing</td></tr><tr><td class = \"rowNumber\" style = \"font-weight: bold; text-align: right;\">458</td><td style = \"text-align: right;\">3</td><td style = \"text-align: right;\">0</td><td style = \"text-align: left;\">Van Impe, Mrs. Jean Baptiste (Rosalie Paula Govaert)</td><td style = \"text-align: left;\">female</td><td style = \"text-align: right;\">30.0</td><td style = \"text-align: right;\">1</td><td style = \"text-align: right;\">1</td><td style = \"text-align: left;\">345773</td><td style = \"text-align: right;\">24.15</td><td style = \"font-style: italic; text-align: left;\">missing</td><td style = \"text-align: left;\">S</td><td style = \"font-style: italic; text-align: left;\">missing</td><td style = \"font-style: italic; text-align: right;\">missing</td><td style = \"font-style: italic; text-align: left;\">missing</td></tr><tr><td class = \"rowNumber\" style = \"font-weight: bold; text-align: right;\">459</td><td style = \"text-align: right;\">3</td><td style = \"text-align: right;\">0</td><td style = \"text-align: left;\">Vander Planke, Miss. Augusta Maria</td><td style = \"text-align: left;\">female</td><td style = \"text-align: right;\">18.0</td><td style = \"text-align: right;\">2</td><td style = \"text-align: right;\">0</td><td style = \"text-align: left;\">345764</td><td style = \"text-align: right;\">18.0</td><td style = \"font-style: italic; text-align: left;\">missing</td><td style = \"text-align: left;\">S</td><td style = \"font-style: italic; text-align: left;\">missing</td><td style = \"font-style: italic; text-align: right;\">missing</td><td style = \"font-style: italic; text-align: left;\">missing</td></tr><tr><td class = \"rowNumber\" style = \"font-weight: bold; text-align: right;\">460</td><td style = \"text-align: right;\">3</td><td style = \"text-align: right;\">0</td><td style = \"text-align: left;\">Vander Planke, Mrs. Julius (Emelia Maria Vandemoortele)</td><td style = \"text-align: left;\">female</td><td style = \"text-align: right;\">31.0</td><td style = \"text-align: right;\">1</td><td style = \"text-align: right;\">0</td><td style = \"text-align: left;\">345763</td><td style = \"text-align: right;\">18.0</td><td style = \"font-style: italic; text-align: left;\">missing</td><td style = \"text-align: left;\">S</td><td style = \"font-style: italic; text-align: left;\">missing</td><td style = \"font-style: italic; text-align: right;\">missing</td><td style = \"font-style: italic; text-align: left;\">missing</td></tr><tr><td class = \"rowNumber\" style = \"font-weight: bold; text-align: right;\">461</td><td style = \"text-align: right;\">3</td><td style = \"text-align: right;\">0</td><td style = \"text-align: left;\">Vestrom, Miss. Hulda Amanda Adolfina</td><td style = \"text-align: left;\">female</td><td style = \"text-align: right;\">14.0</td><td style = \"text-align: right;\">0</td><td style = \"text-align: right;\">0</td><td style = \"text-align: left;\">350406</td><td style = \"text-align: right;\">7.8542</td><td style = \"font-style: italic; text-align: left;\">missing</td><td style = \"text-align: left;\">S</td><td style = \"font-style: italic; text-align: left;\">missing</td><td style = \"font-style: italic; text-align: right;\">missing</td><td style = \"font-style: italic; text-align: left;\">missing</td></tr><tr><td class = \"rowNumber\" style = \"font-weight: bold; text-align: right;\">462</td><td style = \"text-align: right;\">3</td><td style = \"text-align: right;\">1</td><td style = \"text-align: left;\">Whabee, Mrs. George Joseph (Shawneene Abi-Saab)</td><td style = \"text-align: left;\">female</td><td style = \"text-align: right;\">38.0</td><td style = \"text-align: right;\">0</td><td style = \"text-align: right;\">0</td><td style = \"text-align: left;\">2688</td><td style = \"text-align: right;\">7.2292</td><td style = \"font-style: italic; text-align: left;\">missing</td><td style = \"text-align: left;\">C</td><td style = \"text-align: left;\">C</td><td style = \"font-style: italic; text-align: right;\">missing</td><td style = \"font-style: italic; text-align: left;\">missing</td></tr><tr><td class = \"rowNumber\" style = \"font-weight: bold; text-align: right;\">463</td><td style = \"text-align: right;\">3</td><td style = \"text-align: right;\">1</td><td style = \"text-align: left;\">Wilkes, Mrs. James (Ellen Needs)</td><td style = \"text-align: left;\">female</td><td style = \"text-align: right;\">47.0</td><td style = \"text-align: right;\">1</td><td style = \"text-align: right;\">0</td><td style = \"text-align: left;\">363272</td><td style = \"text-align: right;\">7.0</td><td style = \"font-style: italic; text-align: left;\">missing</td><td style = \"text-align: left;\">S</td><td style = \"font-style: italic; text-align: left;\">missing</td><td style = \"font-style: italic; text-align: right;\">missing</td><td style = \"font-style: italic; text-align: left;\">missing</td></tr><tr><td class = \"rowNumber\" style = \"font-weight: bold; text-align: right;\">464</td><td style = \"text-align: right;\">3</td><td style = \"text-align: right;\">1</td><td style = \"text-align: left;\">Yasbeck, Mrs. Antoni (Selini Alexander)</td><td style = \"text-align: left;\">female</td><td style = \"text-align: right;\">15.0</td><td style = \"text-align: right;\">1</td><td style = \"text-align: right;\">0</td><td style = \"text-align: left;\">2659</td><td style = \"text-align: right;\">14.4542</td><td style = \"font-style: italic; text-align: left;\">missing</td><td style = \"text-align: left;\">C</td><td style = \"font-style: italic; text-align: left;\">missing</td><td style = \"font-style: italic; text-align: right;\">missing</td><td style = \"font-style: italic; text-align: left;\">missing</td></tr><tr><td class = \"rowNumber\" style = \"font-weight: bold; text-align: right;\">465</td><td style = \"text-align: right;\">3</td><td style = \"text-align: right;\">0</td><td style = \"text-align: left;\">Zabour, Miss. Hileni</td><td style = \"text-align: left;\">female</td><td style = \"text-align: right;\">14.5</td><td style = \"text-align: right;\">1</td><td style = \"text-align: right;\">0</td><td style = \"text-align: left;\">2665</td><td style = \"text-align: right;\">14.4542</td><td style = \"font-style: italic; text-align: left;\">missing</td><td style = \"text-align: left;\">C</td><td style = \"font-style: italic; text-align: left;\">missing</td><td style = \"text-align: right;\">328</td><td style = \"font-style: italic; text-align: left;\">missing</td></tr><tr><td class = \"rowNumber\" style = \"font-weight: bold; text-align: right;\">466</td><td style = \"text-align: right;\">3</td><td style = \"text-align: right;\">0</td><td style = \"text-align: left;\">Zabour, Miss. Thamine</td><td style = \"text-align: left;\">female</td><td style = \"font-style: italic; text-align: right;\">missing</td><td style = \"text-align: right;\">1</td><td style = \"text-align: right;\">0</td><td style = \"text-align: left;\">2665</td><td style = \"text-align: right;\">14.4542</td><td style = \"font-style: italic; text-align: left;\">missing</td><td style = \"text-align: left;\">C</td><td style = \"font-style: italic; text-align: left;\">missing</td><td style = \"font-style: italic; text-align: right;\">missing</td><td style = \"font-style: italic; text-align: left;\">missing</td></tr></tbody></table></div>"
      ],
      "text/latex": [
       "\\begin{tabular}{r|cccccc}\n",
       "\t& pclass & survived & name & sex & age & \\\\\n",
       "\t\\hline\n",
       "\t& Int64 & Int64 & String & String7 & Float64? & \\\\\n",
       "\t\\hline\n",
       "\t1 & 1 & 1 & Allen, Miss. Elisabeth Walton & female & 29.0 & $\\dots$ \\\\\n",
       "\t2 & 1 & 0 & Allison, Miss. Helen Loraine & female & 2.0 & $\\dots$ \\\\\n",
       "\t3 & 1 & 0 & Allison, Mrs. Hudson J C (Bessie Waldo Daniels) & female & 25.0 & $\\dots$ \\\\\n",
       "\t4 & 1 & 1 & Andrews, Miss. Kornelia Theodosia & female & 63.0 & $\\dots$ \\\\\n",
       "\t5 & 1 & 1 & Appleton, Mrs. Edward Dale (Charlotte Lamson) & female & 53.0 & $\\dots$ \\\\\n",
       "\t6 & 1 & 1 & Astor, Mrs. John Jacob (Madeleine Talmadge Force) & female & 18.0 & $\\dots$ \\\\\n",
       "\t7 & 1 & 1 & Aubart, Mme. Leontine Pauline & female & 24.0 & $\\dots$ \\\\\n",
       "\t8 & 1 & 1 & Barber, Miss. Ellen 'Nellie' & female & 26.0 & $\\dots$ \\\\\n",
       "\t9 & 1 & 1 & Baxter, Mrs. James (Helene DeLaudeniere Chaput) & female & 50.0 & $\\dots$ \\\\\n",
       "\t10 & 1 & 1 & Bazzani, Miss. Albina & female & 32.0 & $\\dots$ \\\\\n",
       "\t11 & 1 & 1 & Beckwith, Mrs. Richard Leonard (Sallie Monypeny) & female & 47.0 & $\\dots$ \\\\\n",
       "\t12 & 1 & 1 & Bidois, Miss. Rosalie & female & 42.0 & $\\dots$ \\\\\n",
       "\t13 & 1 & 1 & Bird, Miss. Ellen & female & 29.0 & $\\dots$ \\\\\n",
       "\t14 & 1 & 1 & Bishop, Mrs. Dickinson H (Helen Walton) & female & 19.0 & $\\dots$ \\\\\n",
       "\t15 & 1 & 1 & Bissette, Miss. Amelia & female & 35.0 & $\\dots$ \\\\\n",
       "\t16 & 1 & 1 & Bonnell, Miss. Caroline & female & 30.0 & $\\dots$ \\\\\n",
       "\t17 & 1 & 1 & Bonnell, Miss. Elizabeth & female & 58.0 & $\\dots$ \\\\\n",
       "\t18 & 1 & 1 & Bowen, Miss. Grace Scott & female & 45.0 & $\\dots$ \\\\\n",
       "\t19 & 1 & 1 & Bowerman, Miss. Elsie Edith & female & 22.0 & $\\dots$ \\\\\n",
       "\t20 & 1 & 1 & Brown, Mrs. James Joseph (Margaret Tobin) & female & 44.0 & $\\dots$ \\\\\n",
       "\t21 & 1 & 1 & Brown, Mrs. John Murray (Caroline Lane Lamson) & female & 59.0 & $\\dots$ \\\\\n",
       "\t22 & 1 & 1 & Bucknell, Mrs. William Robert (Emma Eliza Ward) & female & 60.0 & $\\dots$ \\\\\n",
       "\t23 & 1 & 1 & Burns, Miss. Elizabeth Margaret & female & 41.0 & $\\dots$ \\\\\n",
       "\t24 & 1 & 1 & Candee, Mrs. Edward (Helen Churchill Hungerford) & female & 53.0 & $\\dots$ \\\\\n",
       "\t$\\dots$ & $\\dots$ & $\\dots$ & $\\dots$ & $\\dots$ & $\\dots$ &  \\\\\n",
       "\\end{tabular}\n"
      ],
      "text/plain": [
       "\u001b[1m466×14 DataFrame\u001b[0m\n",
       "\u001b[1m Row \u001b[0m│\u001b[1m pclass \u001b[0m\u001b[1m survived \u001b[0m\u001b[1m name                              \u001b[0m\u001b[1m sex     \u001b[0m\u001b[1m age      \u001b[0m ⋯\n",
       "     │\u001b[90m Int64  \u001b[0m\u001b[90m Int64    \u001b[0m\u001b[90m String                            \u001b[0m\u001b[90m String7 \u001b[0m\u001b[90m Float64? \u001b[0m ⋯\n",
       "─────┼──────────────────────────────────────────────────────────────────────────\n",
       "   1 │      1         1  Allen, Miss. Elisabeth Walton      female        29.0 ⋯\n",
       "   2 │      1         0  Allison, Miss. Helen Loraine       female         2.0\n",
       "   3 │      1         0  Allison, Mrs. Hudson J C (Bessie…  female        25.0\n",
       "   4 │      1         1  Andrews, Miss. Kornelia Theodosia  female        63.0\n",
       "   5 │      1         1  Appleton, Mrs. Edward Dale (Char…  female        53.0 ⋯\n",
       "   6 │      1         1  Astor, Mrs. John Jacob (Madelein…  female        18.0\n",
       "   7 │      1         1  Aubart, Mme. Leontine Pauline      female        24.0\n",
       "   8 │      1         1  Barber, Miss. Ellen 'Nellie'       female        26.0\n",
       "  ⋮  │   ⋮        ⋮                      ⋮                     ⋮         ⋮     ⋱\n",
       " 460 │      3         0  Vander Planke, Mrs. Julius (Emel…  female        31.0 ⋯\n",
       " 461 │      3         0  Vestrom, Miss. Hulda Amanda Adol…  female        14.0\n",
       " 462 │      3         1  Whabee, Mrs. George Joseph (Shaw…  female        38.0\n",
       " 463 │      3         1  Wilkes, Mrs. James (Ellen Needs)   female        47.0\n",
       " 464 │      3         1  Yasbeck, Mrs. Antoni (Selini Ale…  female        15.0 ⋯\n",
       " 465 │      3         0  Zabour, Miss. Hileni               female        14.5\n",
       " 466 │      3         0  Zabour, Miss. Thamine              female  \u001b[90m missing  \u001b[0m\n",
       "\u001b[36m                                                  9 columns and 451 rows omitted\u001b[0m"
      ]
     },
     "metadata": {},
     "output_type": "display_data"
    }
   ],
   "source": [
    "# Lấy số liệu về nữ:\n",
    "filter(:sex => ==(\"female\"), df)"
   ]
  },
  {
   "cell_type": "code",
   "execution_count": null,
   "id": "52fb3ddd",
   "metadata": {},
   "outputs": [
    {
     "data": {
      "text/html": [
       "<div><div style = \"float: left;\"><span>466×14 DataFrame</span></div><div style = \"float: right;\"><span style = \"font-style: italic;\">441 rows omitted</span></div><div style = \"clear: both;\"></div></div><div class = \"data-frame\" style = \"overflow-x: scroll;\"><table class = \"data-frame\" style = \"margin-bottom: 6px;\"><thead><tr class = \"header\"><th class = \"rowNumber\" style = \"font-weight: bold; text-align: right;\">Row</th><th style = \"text-align: left;\">pclass</th><th style = \"text-align: left;\">survived</th><th style = \"text-align: left;\">name</th><th style = \"text-align: left;\">sex</th><th style = \"text-align: left;\">age</th><th style = \"text-align: left;\">sibsp</th><th style = \"text-align: left;\">parch</th><th style = \"text-align: left;\">ticket</th><th style = \"text-align: left;\">fare</th><th style = \"text-align: left;\">cabin</th><th style = \"text-align: left;\">embarked</th><th style = \"text-align: left;\">boat</th><th style = \"text-align: left;\">body</th><th style = \"text-align: left;\">home.dest</th></tr><tr class = \"subheader headerLastRow\"><th class = \"rowNumber\" style = \"font-weight: bold; text-align: right;\"></th><th title = \"Int64\" style = \"text-align: left;\">Int64</th><th title = \"Int64\" style = \"text-align: left;\">Int64</th><th title = \"String\" style = \"text-align: left;\">String</th><th title = \"String7\" style = \"text-align: left;\">String7</th><th title = \"Union{Missing, Float64}\" style = \"text-align: left;\">Float64?</th><th title = \"Int64\" style = \"text-align: left;\">Int64</th><th title = \"Int64\" style = \"text-align: left;\">Int64</th><th title = \"String31\" style = \"text-align: left;\">String31</th><th title = \"Union{Missing, Float64}\" style = \"text-align: left;\">Float64?</th><th title = \"Union{Missing, String15}\" style = \"text-align: left;\">String15?</th><th title = \"Union{Missing, String1}\" style = \"text-align: left;\">String1?</th><th title = \"Union{Missing, String7}\" style = \"text-align: left;\">String7?</th><th title = \"Union{Missing, Int64}\" style = \"text-align: left;\">Int64?</th><th title = \"Union{Missing, String}\" style = \"text-align: left;\">String?</th></tr></thead><tbody><tr><td class = \"rowNumber\" style = \"font-weight: bold; text-align: right;\">1</td><td style = \"text-align: right;\">1</td><td style = \"text-align: right;\">1</td><td style = \"text-align: left;\">Allen, Miss. Elisabeth Walton</td><td style = \"text-align: left;\">female</td><td style = \"text-align: right;\">29.0</td><td style = \"text-align: right;\">0</td><td style = \"text-align: right;\">0</td><td style = \"text-align: left;\">24160</td><td style = \"text-align: right;\">211.338</td><td style = \"text-align: left;\">B5</td><td style = \"text-align: left;\">S</td><td style = \"text-align: left;\">2</td><td style = \"font-style: italic; text-align: right;\">missing</td><td style = \"text-align: left;\">St Louis, MO</td></tr><tr><td class = \"rowNumber\" style = \"font-weight: bold; text-align: right;\">2</td><td style = \"text-align: right;\">1</td><td style = \"text-align: right;\">0</td><td style = \"text-align: left;\">Allison, Miss. Helen Loraine</td><td style = \"text-align: left;\">female</td><td style = \"text-align: right;\">2.0</td><td style = \"text-align: right;\">1</td><td style = \"text-align: right;\">2</td><td style = \"text-align: left;\">113781</td><td style = \"text-align: right;\">151.55</td><td style = \"text-align: left;\">C22 C26</td><td style = \"text-align: left;\">S</td><td style = \"font-style: italic; text-align: left;\">missing</td><td style = \"font-style: italic; text-align: right;\">missing</td><td style = \"text-align: left;\">Montreal, PQ / Chesterville, ON</td></tr><tr><td class = \"rowNumber\" style = \"font-weight: bold; text-align: right;\">3</td><td style = \"text-align: right;\">1</td><td style = \"text-align: right;\">0</td><td style = \"text-align: left;\">Allison, Mrs. Hudson J C (Bessie Waldo Daniels)</td><td style = \"text-align: left;\">female</td><td style = \"text-align: right;\">25.0</td><td style = \"text-align: right;\">1</td><td style = \"text-align: right;\">2</td><td style = \"text-align: left;\">113781</td><td style = \"text-align: right;\">151.55</td><td style = \"text-align: left;\">C22 C26</td><td style = \"text-align: left;\">S</td><td style = \"font-style: italic; text-align: left;\">missing</td><td style = \"font-style: italic; text-align: right;\">missing</td><td style = \"text-align: left;\">Montreal, PQ / Chesterville, ON</td></tr><tr><td class = \"rowNumber\" style = \"font-weight: bold; text-align: right;\">4</td><td style = \"text-align: right;\">1</td><td style = \"text-align: right;\">1</td><td style = \"text-align: left;\">Andrews, Miss. Kornelia Theodosia</td><td style = \"text-align: left;\">female</td><td style = \"text-align: right;\">63.0</td><td style = \"text-align: right;\">1</td><td style = \"text-align: right;\">0</td><td style = \"text-align: left;\">13502</td><td style = \"text-align: right;\">77.9583</td><td style = \"text-align: left;\">D7</td><td style = \"text-align: left;\">S</td><td style = \"text-align: left;\">10</td><td style = \"font-style: italic; text-align: right;\">missing</td><td style = \"text-align: left;\">Hudson, NY</td></tr><tr><td class = \"rowNumber\" style = \"font-weight: bold; text-align: right;\">5</td><td style = \"text-align: right;\">1</td><td style = \"text-align: right;\">1</td><td style = \"text-align: left;\">Appleton, Mrs. Edward Dale (Charlotte Lamson)</td><td style = \"text-align: left;\">female</td><td style = \"text-align: right;\">53.0</td><td style = \"text-align: right;\">2</td><td style = \"text-align: right;\">0</td><td style = \"text-align: left;\">11769</td><td style = \"text-align: right;\">51.4792</td><td style = \"text-align: left;\">C101</td><td style = \"text-align: left;\">S</td><td style = \"text-align: left;\">D</td><td style = \"font-style: italic; text-align: right;\">missing</td><td style = \"text-align: left;\">Bayside, Queens, NY</td></tr><tr><td class = \"rowNumber\" style = \"font-weight: bold; text-align: right;\">6</td><td style = \"text-align: right;\">1</td><td style = \"text-align: right;\">1</td><td style = \"text-align: left;\">Astor, Mrs. John Jacob (Madeleine Talmadge Force)</td><td style = \"text-align: left;\">female</td><td style = \"text-align: right;\">18.0</td><td style = \"text-align: right;\">1</td><td style = \"text-align: right;\">0</td><td style = \"text-align: left;\">PC 17757</td><td style = \"text-align: right;\">227.525</td><td style = \"text-align: left;\">C62 C64</td><td style = \"text-align: left;\">C</td><td style = \"text-align: left;\">4</td><td style = \"font-style: italic; text-align: right;\">missing</td><td style = \"text-align: left;\">New York, NY</td></tr><tr><td class = \"rowNumber\" style = \"font-weight: bold; text-align: right;\">7</td><td style = \"text-align: right;\">1</td><td style = \"text-align: right;\">1</td><td style = \"text-align: left;\">Aubart, Mme. Leontine Pauline</td><td style = \"text-align: left;\">female</td><td style = \"text-align: right;\">24.0</td><td style = \"text-align: right;\">0</td><td style = \"text-align: right;\">0</td><td style = \"text-align: left;\">PC 17477</td><td style = \"text-align: right;\">69.3</td><td style = \"text-align: left;\">B35</td><td style = \"text-align: left;\">C</td><td style = \"text-align: left;\">9</td><td style = \"font-style: italic; text-align: right;\">missing</td><td style = \"text-align: left;\">Paris, France</td></tr><tr><td class = \"rowNumber\" style = \"font-weight: bold; text-align: right;\">8</td><td style = \"text-align: right;\">1</td><td style = \"text-align: right;\">1</td><td style = \"text-align: left;\">Barber, Miss. Ellen &apos;Nellie&apos;</td><td style = \"text-align: left;\">female</td><td style = \"text-align: right;\">26.0</td><td style = \"text-align: right;\">0</td><td style = \"text-align: right;\">0</td><td style = \"text-align: left;\">19877</td><td style = \"text-align: right;\">78.85</td><td style = \"font-style: italic; text-align: left;\">missing</td><td style = \"text-align: left;\">S</td><td style = \"text-align: left;\">6</td><td style = \"font-style: italic; text-align: right;\">missing</td><td style = \"font-style: italic; text-align: left;\">missing</td></tr><tr><td class = \"rowNumber\" style = \"font-weight: bold; text-align: right;\">9</td><td style = \"text-align: right;\">1</td><td style = \"text-align: right;\">1</td><td style = \"text-align: left;\">Baxter, Mrs. James (Helene DeLaudeniere Chaput)</td><td style = \"text-align: left;\">female</td><td style = \"text-align: right;\">50.0</td><td style = \"text-align: right;\">0</td><td style = \"text-align: right;\">1</td><td style = \"text-align: left;\">PC 17558</td><td style = \"text-align: right;\">247.521</td><td style = \"text-align: left;\">B58 B60</td><td style = \"text-align: left;\">C</td><td style = \"text-align: left;\">6</td><td style = \"font-style: italic; text-align: right;\">missing</td><td style = \"text-align: left;\">Montreal, PQ</td></tr><tr><td class = \"rowNumber\" style = \"font-weight: bold; text-align: right;\">10</td><td style = \"text-align: right;\">1</td><td style = \"text-align: right;\">1</td><td style = \"text-align: left;\">Bazzani, Miss. Albina</td><td style = \"text-align: left;\">female</td><td style = \"text-align: right;\">32.0</td><td style = \"text-align: right;\">0</td><td style = \"text-align: right;\">0</td><td style = \"text-align: left;\">11813</td><td style = \"text-align: right;\">76.2917</td><td style = \"text-align: left;\">D15</td><td style = \"text-align: left;\">C</td><td style = \"text-align: left;\">8</td><td style = \"font-style: italic; text-align: right;\">missing</td><td style = \"font-style: italic; text-align: left;\">missing</td></tr><tr><td class = \"rowNumber\" style = \"font-weight: bold; text-align: right;\">11</td><td style = \"text-align: right;\">1</td><td style = \"text-align: right;\">1</td><td style = \"text-align: left;\">Beckwith, Mrs. Richard Leonard (Sallie Monypeny)</td><td style = \"text-align: left;\">female</td><td style = \"text-align: right;\">47.0</td><td style = \"text-align: right;\">1</td><td style = \"text-align: right;\">1</td><td style = \"text-align: left;\">11751</td><td style = \"text-align: right;\">52.5542</td><td style = \"text-align: left;\">D35</td><td style = \"text-align: left;\">S</td><td style = \"text-align: left;\">5</td><td style = \"font-style: italic; text-align: right;\">missing</td><td style = \"text-align: left;\">New York, NY</td></tr><tr><td class = \"rowNumber\" style = \"font-weight: bold; text-align: right;\">12</td><td style = \"text-align: right;\">1</td><td style = \"text-align: right;\">1</td><td style = \"text-align: left;\">Bidois, Miss. Rosalie</td><td style = \"text-align: left;\">female</td><td style = \"text-align: right;\">42.0</td><td style = \"text-align: right;\">0</td><td style = \"text-align: right;\">0</td><td style = \"text-align: left;\">PC 17757</td><td style = \"text-align: right;\">227.525</td><td style = \"font-style: italic; text-align: left;\">missing</td><td style = \"text-align: left;\">C</td><td style = \"text-align: left;\">4</td><td style = \"font-style: italic; text-align: right;\">missing</td><td style = \"font-style: italic; text-align: left;\">missing</td></tr><tr><td class = \"rowNumber\" style = \"font-weight: bold; text-align: right;\">13</td><td style = \"text-align: right;\">1</td><td style = \"text-align: right;\">1</td><td style = \"text-align: left;\">Bird, Miss. Ellen</td><td style = \"text-align: left;\">female</td><td style = \"text-align: right;\">29.0</td><td style = \"text-align: right;\">0</td><td style = \"text-align: right;\">0</td><td style = \"text-align: left;\">PC 17483</td><td style = \"text-align: right;\">221.779</td><td style = \"text-align: left;\">C97</td><td style = \"text-align: left;\">S</td><td style = \"text-align: left;\">8</td><td style = \"font-style: italic; text-align: right;\">missing</td><td style = \"font-style: italic; text-align: left;\">missing</td></tr><tr><td style = \"text-align: right;\">&vellip;</td><td style = \"text-align: right;\">&vellip;</td><td style = \"text-align: right;\">&vellip;</td><td style = \"text-align: right;\">&vellip;</td><td style = \"text-align: right;\">&vellip;</td><td style = \"text-align: right;\">&vellip;</td><td style = \"text-align: right;\">&vellip;</td><td style = \"text-align: right;\">&vellip;</td><td style = \"text-align: right;\">&vellip;</td><td style = \"text-align: right;\">&vellip;</td><td style = \"text-align: right;\">&vellip;</td><td style = \"text-align: right;\">&vellip;</td><td style = \"text-align: right;\">&vellip;</td><td style = \"text-align: right;\">&vellip;</td><td style = \"text-align: right;\">&vellip;</td></tr><tr><td class = \"rowNumber\" style = \"font-weight: bold; text-align: right;\">455</td><td style = \"text-align: right;\">3</td><td style = \"text-align: right;\">1</td><td style = \"text-align: left;\">Turja, Miss. Anna Sofia</td><td style = \"text-align: left;\">female</td><td style = \"text-align: right;\">18.0</td><td style = \"text-align: right;\">0</td><td style = \"text-align: right;\">0</td><td style = \"text-align: left;\">4138</td><td style = \"text-align: right;\">9.8417</td><td style = \"font-style: italic; text-align: left;\">missing</td><td style = \"text-align: left;\">S</td><td style = \"text-align: left;\">15</td><td style = \"font-style: italic; text-align: right;\">missing</td><td style = \"font-style: italic; text-align: left;\">missing</td></tr><tr><td class = \"rowNumber\" style = \"font-weight: bold; text-align: right;\">456</td><td style = \"text-align: right;\">3</td><td style = \"text-align: right;\">1</td><td style = \"text-align: left;\">Turkula, Mrs. (Hedwig)</td><td style = \"text-align: left;\">female</td><td style = \"text-align: right;\">63.0</td><td style = \"text-align: right;\">0</td><td style = \"text-align: right;\">0</td><td style = \"text-align: left;\">4134</td><td style = \"text-align: right;\">9.5875</td><td style = \"font-style: italic; text-align: left;\">missing</td><td style = \"text-align: left;\">S</td><td style = \"text-align: left;\">15</td><td style = \"font-style: italic; text-align: right;\">missing</td><td style = \"font-style: italic; text-align: left;\">missing</td></tr><tr><td class = \"rowNumber\" style = \"font-weight: bold; text-align: right;\">457</td><td style = \"text-align: right;\">3</td><td style = \"text-align: right;\">0</td><td style = \"text-align: left;\">Van Impe, Miss. Catharina</td><td style = \"text-align: left;\">female</td><td style = \"text-align: right;\">10.0</td><td style = \"text-align: right;\">0</td><td style = \"text-align: right;\">2</td><td style = \"text-align: left;\">345773</td><td style = \"text-align: right;\">24.15</td><td style = \"font-style: italic; text-align: left;\">missing</td><td style = \"text-align: left;\">S</td><td style = \"font-style: italic; text-align: left;\">missing</td><td style = \"font-style: italic; text-align: right;\">missing</td><td style = \"font-style: italic; text-align: left;\">missing</td></tr><tr><td class = \"rowNumber\" style = \"font-weight: bold; text-align: right;\">458</td><td style = \"text-align: right;\">3</td><td style = \"text-align: right;\">0</td><td style = \"text-align: left;\">Van Impe, Mrs. Jean Baptiste (Rosalie Paula Govaert)</td><td style = \"text-align: left;\">female</td><td style = \"text-align: right;\">30.0</td><td style = \"text-align: right;\">1</td><td style = \"text-align: right;\">1</td><td style = \"text-align: left;\">345773</td><td style = \"text-align: right;\">24.15</td><td style = \"font-style: italic; text-align: left;\">missing</td><td style = \"text-align: left;\">S</td><td style = \"font-style: italic; text-align: left;\">missing</td><td style = \"font-style: italic; text-align: right;\">missing</td><td style = \"font-style: italic; text-align: left;\">missing</td></tr><tr><td class = \"rowNumber\" style = \"font-weight: bold; text-align: right;\">459</td><td style = \"text-align: right;\">3</td><td style = \"text-align: right;\">0</td><td style = \"text-align: left;\">Vander Planke, Miss. Augusta Maria</td><td style = \"text-align: left;\">female</td><td style = \"text-align: right;\">18.0</td><td style = \"text-align: right;\">2</td><td style = \"text-align: right;\">0</td><td style = \"text-align: left;\">345764</td><td style = \"text-align: right;\">18.0</td><td style = \"font-style: italic; text-align: left;\">missing</td><td style = \"text-align: left;\">S</td><td style = \"font-style: italic; text-align: left;\">missing</td><td style = \"font-style: italic; text-align: right;\">missing</td><td style = \"font-style: italic; text-align: left;\">missing</td></tr><tr><td class = \"rowNumber\" style = \"font-weight: bold; text-align: right;\">460</td><td style = \"text-align: right;\">3</td><td style = \"text-align: right;\">0</td><td style = \"text-align: left;\">Vander Planke, Mrs. Julius (Emelia Maria Vandemoortele)</td><td style = \"text-align: left;\">female</td><td style = \"text-align: right;\">31.0</td><td style = \"text-align: right;\">1</td><td style = \"text-align: right;\">0</td><td style = \"text-align: left;\">345763</td><td style = \"text-align: right;\">18.0</td><td style = \"font-style: italic; text-align: left;\">missing</td><td style = \"text-align: left;\">S</td><td style = \"font-style: italic; text-align: left;\">missing</td><td style = \"font-style: italic; text-align: right;\">missing</td><td style = \"font-style: italic; text-align: left;\">missing</td></tr><tr><td class = \"rowNumber\" style = \"font-weight: bold; text-align: right;\">461</td><td style = \"text-align: right;\">3</td><td style = \"text-align: right;\">0</td><td style = \"text-align: left;\">Vestrom, Miss. Hulda Amanda Adolfina</td><td style = \"text-align: left;\">female</td><td style = \"text-align: right;\">14.0</td><td style = \"text-align: right;\">0</td><td style = \"text-align: right;\">0</td><td style = \"text-align: left;\">350406</td><td style = \"text-align: right;\">7.8542</td><td style = \"font-style: italic; text-align: left;\">missing</td><td style = \"text-align: left;\">S</td><td style = \"font-style: italic; text-align: left;\">missing</td><td style = \"font-style: italic; text-align: right;\">missing</td><td style = \"font-style: italic; text-align: left;\">missing</td></tr><tr><td class = \"rowNumber\" style = \"font-weight: bold; text-align: right;\">462</td><td style = \"text-align: right;\">3</td><td style = \"text-align: right;\">1</td><td style = \"text-align: left;\">Whabee, Mrs. George Joseph (Shawneene Abi-Saab)</td><td style = \"text-align: left;\">female</td><td style = \"text-align: right;\">38.0</td><td style = \"text-align: right;\">0</td><td style = \"text-align: right;\">0</td><td style = \"text-align: left;\">2688</td><td style = \"text-align: right;\">7.2292</td><td style = \"font-style: italic; text-align: left;\">missing</td><td style = \"text-align: left;\">C</td><td style = \"text-align: left;\">C</td><td style = \"font-style: italic; text-align: right;\">missing</td><td style = \"font-style: italic; text-align: left;\">missing</td></tr><tr><td class = \"rowNumber\" style = \"font-weight: bold; text-align: right;\">463</td><td style = \"text-align: right;\">3</td><td style = \"text-align: right;\">1</td><td style = \"text-align: left;\">Wilkes, Mrs. James (Ellen Needs)</td><td style = \"text-align: left;\">female</td><td style = \"text-align: right;\">47.0</td><td style = \"text-align: right;\">1</td><td style = \"text-align: right;\">0</td><td style = \"text-align: left;\">363272</td><td style = \"text-align: right;\">7.0</td><td style = \"font-style: italic; text-align: left;\">missing</td><td style = \"text-align: left;\">S</td><td style = \"font-style: italic; text-align: left;\">missing</td><td style = \"font-style: italic; text-align: right;\">missing</td><td style = \"font-style: italic; text-align: left;\">missing</td></tr><tr><td class = \"rowNumber\" style = \"font-weight: bold; text-align: right;\">464</td><td style = \"text-align: right;\">3</td><td style = \"text-align: right;\">1</td><td style = \"text-align: left;\">Yasbeck, Mrs. Antoni (Selini Alexander)</td><td style = \"text-align: left;\">female</td><td style = \"text-align: right;\">15.0</td><td style = \"text-align: right;\">1</td><td style = \"text-align: right;\">0</td><td style = \"text-align: left;\">2659</td><td style = \"text-align: right;\">14.4542</td><td style = \"font-style: italic; text-align: left;\">missing</td><td style = \"text-align: left;\">C</td><td style = \"font-style: italic; text-align: left;\">missing</td><td style = \"font-style: italic; text-align: right;\">missing</td><td style = \"font-style: italic; text-align: left;\">missing</td></tr><tr><td class = \"rowNumber\" style = \"font-weight: bold; text-align: right;\">465</td><td style = \"text-align: right;\">3</td><td style = \"text-align: right;\">0</td><td style = \"text-align: left;\">Zabour, Miss. Hileni</td><td style = \"text-align: left;\">female</td><td style = \"text-align: right;\">14.5</td><td style = \"text-align: right;\">1</td><td style = \"text-align: right;\">0</td><td style = \"text-align: left;\">2665</td><td style = \"text-align: right;\">14.4542</td><td style = \"font-style: italic; text-align: left;\">missing</td><td style = \"text-align: left;\">C</td><td style = \"font-style: italic; text-align: left;\">missing</td><td style = \"text-align: right;\">328</td><td style = \"font-style: italic; text-align: left;\">missing</td></tr><tr><td class = \"rowNumber\" style = \"font-weight: bold; text-align: right;\">466</td><td style = \"text-align: right;\">3</td><td style = \"text-align: right;\">0</td><td style = \"text-align: left;\">Zabour, Miss. Thamine</td><td style = \"text-align: left;\">female</td><td style = \"font-style: italic; text-align: right;\">missing</td><td style = \"text-align: right;\">1</td><td style = \"text-align: right;\">0</td><td style = \"text-align: left;\">2665</td><td style = \"text-align: right;\">14.4542</td><td style = \"font-style: italic; text-align: left;\">missing</td><td style = \"text-align: left;\">C</td><td style = \"font-style: italic; text-align: left;\">missing</td><td style = \"font-style: italic; text-align: right;\">missing</td><td style = \"font-style: italic; text-align: left;\">missing</td></tr></tbody></table></div>"
      ],
      "text/latex": [
       "\\begin{tabular}{r|cccccc}\n",
       "\t& pclass & survived & name & sex & age & \\\\\n",
       "\t\\hline\n",
       "\t& Int64 & Int64 & String & String7 & Float64? & \\\\\n",
       "\t\\hline\n",
       "\t1 & 1 & 1 & Allen, Miss. Elisabeth Walton & female & 29.0 & $\\dots$ \\\\\n",
       "\t2 & 1 & 0 & Allison, Miss. Helen Loraine & female & 2.0 & $\\dots$ \\\\\n",
       "\t3 & 1 & 0 & Allison, Mrs. Hudson J C (Bessie Waldo Daniels) & female & 25.0 & $\\dots$ \\\\\n",
       "\t4 & 1 & 1 & Andrews, Miss. Kornelia Theodosia & female & 63.0 & $\\dots$ \\\\\n",
       "\t5 & 1 & 1 & Appleton, Mrs. Edward Dale (Charlotte Lamson) & female & 53.0 & $\\dots$ \\\\\n",
       "\t6 & 1 & 1 & Astor, Mrs. John Jacob (Madeleine Talmadge Force) & female & 18.0 & $\\dots$ \\\\\n",
       "\t7 & 1 & 1 & Aubart, Mme. Leontine Pauline & female & 24.0 & $\\dots$ \\\\\n",
       "\t8 & 1 & 1 & Barber, Miss. Ellen 'Nellie' & female & 26.0 & $\\dots$ \\\\\n",
       "\t9 & 1 & 1 & Baxter, Mrs. James (Helene DeLaudeniere Chaput) & female & 50.0 & $\\dots$ \\\\\n",
       "\t10 & 1 & 1 & Bazzani, Miss. Albina & female & 32.0 & $\\dots$ \\\\\n",
       "\t11 & 1 & 1 & Beckwith, Mrs. Richard Leonard (Sallie Monypeny) & female & 47.0 & $\\dots$ \\\\\n",
       "\t12 & 1 & 1 & Bidois, Miss. Rosalie & female & 42.0 & $\\dots$ \\\\\n",
       "\t13 & 1 & 1 & Bird, Miss. Ellen & female & 29.0 & $\\dots$ \\\\\n",
       "\t14 & 1 & 1 & Bishop, Mrs. Dickinson H (Helen Walton) & female & 19.0 & $\\dots$ \\\\\n",
       "\t15 & 1 & 1 & Bissette, Miss. Amelia & female & 35.0 & $\\dots$ \\\\\n",
       "\t16 & 1 & 1 & Bonnell, Miss. Caroline & female & 30.0 & $\\dots$ \\\\\n",
       "\t17 & 1 & 1 & Bonnell, Miss. Elizabeth & female & 58.0 & $\\dots$ \\\\\n",
       "\t18 & 1 & 1 & Bowen, Miss. Grace Scott & female & 45.0 & $\\dots$ \\\\\n",
       "\t19 & 1 & 1 & Bowerman, Miss. Elsie Edith & female & 22.0 & $\\dots$ \\\\\n",
       "\t20 & 1 & 1 & Brown, Mrs. James Joseph (Margaret Tobin) & female & 44.0 & $\\dots$ \\\\\n",
       "\t21 & 1 & 1 & Brown, Mrs. John Murray (Caroline Lane Lamson) & female & 59.0 & $\\dots$ \\\\\n",
       "\t22 & 1 & 1 & Bucknell, Mrs. William Robert (Emma Eliza Ward) & female & 60.0 & $\\dots$ \\\\\n",
       "\t23 & 1 & 1 & Burns, Miss. Elizabeth Margaret & female & 41.0 & $\\dots$ \\\\\n",
       "\t24 & 1 & 1 & Candee, Mrs. Edward (Helen Churchill Hungerford) & female & 53.0 & $\\dots$ \\\\\n",
       "\t$\\dots$ & $\\dots$ & $\\dots$ & $\\dots$ & $\\dots$ & $\\dots$ &  \\\\\n",
       "\\end{tabular}\n"
      ],
      "text/plain": [
       "\u001b[1m466×14 DataFrame\u001b[0m\n",
       "\u001b[1m Row \u001b[0m│\u001b[1m pclass \u001b[0m\u001b[1m survived \u001b[0m\u001b[1m name                              \u001b[0m\u001b[1m sex     \u001b[0m\u001b[1m age      \u001b[0m ⋯\n",
       "     │\u001b[90m Int64  \u001b[0m\u001b[90m Int64    \u001b[0m\u001b[90m String                            \u001b[0m\u001b[90m String7 \u001b[0m\u001b[90m Float64? \u001b[0m ⋯\n",
       "─────┼──────────────────────────────────────────────────────────────────────────\n",
       "   1 │      1         1  Allen, Miss. Elisabeth Walton      female        29.0 ⋯\n",
       "   2 │      1         0  Allison, Miss. Helen Loraine       female         2.0\n",
       "   3 │      1         0  Allison, Mrs. Hudson J C (Bessie…  female        25.0\n",
       "   4 │      1         1  Andrews, Miss. Kornelia Theodosia  female        63.0\n",
       "   5 │      1         1  Appleton, Mrs. Edward Dale (Char…  female        53.0 ⋯\n",
       "   6 │      1         1  Astor, Mrs. John Jacob (Madelein…  female        18.0\n",
       "   7 │      1         1  Aubart, Mme. Leontine Pauline      female        24.0\n",
       "   8 │      1         1  Barber, Miss. Ellen 'Nellie'       female        26.0\n",
       "  ⋮  │   ⋮        ⋮                      ⋮                     ⋮         ⋮     ⋱\n",
       " 460 │      3         0  Vander Planke, Mrs. Julius (Emel…  female        31.0 ⋯\n",
       " 461 │      3         0  Vestrom, Miss. Hulda Amanda Adol…  female        14.0\n",
       " 462 │      3         1  Whabee, Mrs. George Joseph (Shaw…  female        38.0\n",
       " 463 │      3         1  Wilkes, Mrs. James (Ellen Needs)   female        47.0\n",
       " 464 │      3         1  Yasbeck, Mrs. Antoni (Selini Ale…  female        15.0 ⋯\n",
       " 465 │      3         0  Zabour, Miss. Hileni               female        14.5\n",
       " 466 │      3         0  Zabour, Miss. Thamine              female  \u001b[90m missing  \u001b[0m\n",
       "\u001b[36m                                                  9 columns and 451 rows omitted\u001b[0m"
      ]
     },
     "metadata": {},
     "output_type": "display_data"
    }
   ],
   "source": [
    "# Tương đương với:\n",
    "@pipe df |> filter(:sex => ==(\"female\"), _)"
   ]
  },
  {
   "cell_type": "code",
   "execution_count": null,
   "id": "cb3b9a67",
   "metadata": {},
   "outputs": [
    {
     "data": {
      "text/html": [
       "<div><div style = \"float: left;\"><span>5×3 DataFrame</span></div><div style = \"clear: both;\"></div></div><div class = \"data-frame\" style = \"overflow-x: scroll;\"><table class = \"data-frame\" style = \"margin-bottom: 6px;\"><thead><tr class = \"header\"><th class = \"rowNumber\" style = \"font-weight: bold; text-align: right;\">Row</th><th style = \"text-align: left;\">sex</th><th style = \"text-align: left;\">age</th><th style = \"text-align: left;\">survived</th></tr><tr class = \"subheader headerLastRow\"><th class = \"rowNumber\" style = \"font-weight: bold; text-align: right;\"></th><th title = \"String7\" style = \"text-align: left;\">String7</th><th title = \"Union{Missing, Float64}\" style = \"text-align: left;\">Float64?</th><th title = \"Int64\" style = \"text-align: left;\">Int64</th></tr></thead><tbody><tr><td class = \"rowNumber\" style = \"font-weight: bold; text-align: right;\">1</td><td style = \"text-align: left;\">female</td><td style = \"text-align: right;\">29.0</td><td style = \"text-align: right;\">1</td></tr><tr><td class = \"rowNumber\" style = \"font-weight: bold; text-align: right;\">2</td><td style = \"text-align: left;\">female</td><td style = \"text-align: right;\">2.0</td><td style = \"text-align: right;\">0</td></tr><tr><td class = \"rowNumber\" style = \"font-weight: bold; text-align: right;\">3</td><td style = \"text-align: left;\">female</td><td style = \"text-align: right;\">25.0</td><td style = \"text-align: right;\">0</td></tr><tr><td class = \"rowNumber\" style = \"font-weight: bold; text-align: right;\">4</td><td style = \"text-align: left;\">female</td><td style = \"text-align: right;\">63.0</td><td style = \"text-align: right;\">1</td></tr><tr><td class = \"rowNumber\" style = \"font-weight: bold; text-align: right;\">5</td><td style = \"text-align: left;\">female</td><td style = \"text-align: right;\">53.0</td><td style = \"text-align: right;\">1</td></tr></tbody></table></div>"
      ],
      "text/latex": [
       "\\begin{tabular}{r|ccc}\n",
       "\t& sex & age & survived\\\\\n",
       "\t\\hline\n",
       "\t& String7 & Float64? & Int64\\\\\n",
       "\t\\hline\n",
       "\t1 & female & 29.0 & 1 \\\\\n",
       "\t2 & female & 2.0 & 0 \\\\\n",
       "\t3 & female & 25.0 & 0 \\\\\n",
       "\t4 & female & 63.0 & 1 \\\\\n",
       "\t5 & female & 53.0 & 1 \\\\\n",
       "\\end{tabular}\n"
      ],
      "text/plain": [
       "\u001b[1m5×3 DataFrame\u001b[0m\n",
       "\u001b[1m Row \u001b[0m│\u001b[1m sex     \u001b[0m\u001b[1m age      \u001b[0m\u001b[1m survived \u001b[0m\n",
       "     │\u001b[90m String7 \u001b[0m\u001b[90m Float64? \u001b[0m\u001b[90m Int64    \u001b[0m\n",
       "─────┼─────────────────────────────\n",
       "   1 │ female       29.0         1\n",
       "   2 │ female        2.0         0\n",
       "   3 │ female       25.0         0\n",
       "   4 │ female       63.0         1\n",
       "   5 │ female       53.0         1"
      ]
     },
     "metadata": {},
     "output_type": "display_data"
    }
   ],
   "source": [
    "# Gộp lại tất cả:\n",
    "@pipe df |> \n",
    "select(_, [:sex, :age, :survived]) |> # Lấy dữ liệu của 3 cột: sex, age, survived\n",
    "filter(:sex => ==(\"female\"), _)  |> # Chỉ lấy tiếp dữ liệu cột sex là female \n",
    "first(_, 5) # Lấy 5 dòng dữ liệu đầu tiên"
   ]
  },
  {
   "cell_type": "markdown",
   "id": "f48e863d",
   "metadata": {},
   "source": [
    "**Công thức của pipe**:\n",
    "\n",
    "Từ các ví dụ trên, chúng ta cần lưu ý 3 thứ sau:\n",
    "1. Bắt đầu pipe với `@pipe`\n",
    "2. Các câu lệnh được sâu chuỗi với nhau bằng `|>`\n",
    "3. Đối tượng được pipe giữa các câu lệnh được gán vào trong câu lệnh bằng `_` (gạch chân - underscore) (ở ví dụ trên là df và các bảng con của df)\n"
   ]
  },
  {
   "cell_type": "markdown",
   "id": "13dfeda8",
   "metadata": {},
   "source": [
    "**Ví dụ khác:**"
   ]
  },
  {
   "cell_type": "code",
   "execution_count": null,
   "id": "b2179db5",
   "metadata": {},
   "outputs": [
    {
     "data": {
      "text/html": [
       "<div><div style = \"float: left;\"><span>2×3 DataFrame</span></div><div style = \"clear: both;\"></div></div><div class = \"data-frame\" style = \"overflow-x: scroll;\"><table class = \"data-frame\" style = \"margin-bottom: 6px;\"><thead><tr class = \"header\"><th class = \"rowNumber\" style = \"font-weight: bold; text-align: right;\">Row</th><th style = \"text-align: left;\">sex</th><th style = \"text-align: left;\">age_function</th><th style = \"text-align: left;\">survived_sum</th></tr><tr class = \"subheader headerLastRow\"><th class = \"rowNumber\" style = \"font-weight: bold; text-align: right;\"></th><th title = \"String7\" style = \"text-align: left;\">String7</th><th title = \"Float64\" style = \"text-align: left;\">Float64</th><th title = \"Int64\" style = \"text-align: left;\">Int64</th></tr></thead><tbody><tr><td class = \"rowNumber\" style = \"font-weight: bold; text-align: right;\">1</td><td style = \"text-align: left;\">female</td><td style = \"text-align: right;\">28.6871</td><td style = \"text-align: right;\">339</td></tr><tr><td class = \"rowNumber\" style = \"font-weight: bold; text-align: right;\">2</td><td style = \"text-align: left;\">male</td><td style = \"text-align: right;\">30.5852</td><td style = \"text-align: right;\">161</td></tr></tbody></table></div>"
      ],
      "text/latex": [
       "\\begin{tabular}{r|ccc}\n",
       "\t& sex & age\\_function & survived\\_sum\\\\\n",
       "\t\\hline\n",
       "\t& String7 & Float64 & Int64\\\\\n",
       "\t\\hline\n",
       "\t1 & female & 28.6871 & 339 \\\\\n",
       "\t2 & male & 30.5852 & 161 \\\\\n",
       "\\end{tabular}\n"
      ],
      "text/plain": [
       "\u001b[1m2×3 DataFrame\u001b[0m\n",
       "\u001b[1m Row \u001b[0m│\u001b[1m sex     \u001b[0m\u001b[1m age_function \u001b[0m\u001b[1m survived_sum \u001b[0m\n",
       "     │\u001b[90m String7 \u001b[0m\u001b[90m Float64      \u001b[0m\u001b[90m Int64        \u001b[0m\n",
       "─────┼─────────────────────────────────────\n",
       "   1 │ female        28.6871           339\n",
       "   2 │ male          30.5852           161"
      ]
     },
     "metadata": {},
     "output_type": "display_data"
    }
   ],
   "source": [
    "@pipe df |>\n",
    "groupby(_, :sex) |>\n",
    "combine(_, [:age => (x -> mean(skipmissing(x))), :survived => sum])"
   ]
  },
  {
   "cell_type": "markdown",
   "id": "36f7b94d",
   "metadata": {},
   "source": []
  }
 ],
 "metadata": {
  "kernelspec": {
   "display_name": "Julia 1.8.5",
   "language": "julia",
   "name": "julia-1.8"
  }
 },
 "nbformat": 4,
 "nbformat_minor": 5
}
