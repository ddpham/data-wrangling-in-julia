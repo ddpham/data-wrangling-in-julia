{
 "cells": [
  {
   "cell_type": "code",
   "execution_count": 1,
   "id": "0dfbbd16",
   "metadata": {},
   "outputs": [],
   "source": [
    "#default_exp pipeoperator_and_basic_data_wrangling"
   ]
  },
  {
   "cell_type": "markdown",
   "id": "6e5b8e70",
   "metadata": {},
   "source": [
    "# Nội dung chính"
   ]
  },
  {
   "cell_type": "markdown",
   "id": "e349e9fe",
   "metadata": {},
   "source": [
    "Trong notebook này chúng ta sẽ đi qua các biến đổi dữ liệu cơ bản và cách sử dụng pipeoperator trong biến đổi dữ liệu"
   ]
  },
  {
   "cell_type": "code",
   "execution_count": null,
   "id": "6c0c06c2",
   "metadata": {},
   "outputs": [],
   "source": [
    "#export\n",
    "using Pkg\n",
    "using DataFrames\n",
    "using Pipe"
   ]
  }
 ],
 "metadata": {
  "kernelspec": {
   "display_name": "Julia 1.5.4",
   "language": "julia",
   "name": "julia-1.5"
  },
  "language_info": {
   "file_extension": ".jl",
   "mimetype": "application/julia",
   "name": "julia",
   "version": "1.5.4"
  }
 },
 "nbformat": 4,
 "nbformat_minor": 5
}
