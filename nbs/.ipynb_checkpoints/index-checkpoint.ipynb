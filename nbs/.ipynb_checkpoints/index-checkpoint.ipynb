{
 "cells": [
  {
   "cell_type": "markdown",
   "id": "0ac77137",
   "metadata": {},
   "source": [
    "# Data wrangling in Julia\n",
    "> Xử lý và biến đổi dữ liệu trên Julia"
   ]
  },
  {
   "cell_type": "markdown",
   "id": "e6df09af",
   "metadata": {},
   "source": [
    "\n",
    "## Cài đặt\n",
    "\n",
    "Bạn cần cài đặt Julia và setup Julia trên Jupyter Notebook để có thể thực hành với các notebooks ở đây."
   ]
  },
  {
   "cell_type": "markdown",
   "id": "1ec26af3",
   "metadata": {},
   "source": [
    "### Tải và cài đặt Julia\n",
    "Bạn có thể tải file về và cài đặt trên máy tính cá nhân [tại đây](https://julialang.org/downloads/)\n",
    "\n",
    "**Version:**\n",
    "Hiện Julia đã có version 1.7.x, tuy nhiên, để sử dụng được các thư viện một cách ổn định (hoặc để cài được thư viện), tốt nhất bạn nên sử dụng các version được xây dựng trước 1 thời gian như 1.5.x. Hiện với các notebooks và các thư viện được sử dụng đang chạy trên Julia 1.5.4\n",
    "\n",
    "![image.png](../images/julia-image.png)\n",
    "\n",
    "Tải các version cũ [tại đây](https://julialang.org/downloads/oldreleases/)"
   ]
  },
  {
   "cell_type": "markdown",
   "id": "d062a4ad",
   "metadata": {},
   "source": [
    "### Setup cho Jupyter Notebook\n",
    "Bạn có thể đọc hướng dẫn cách setup Julia trên Jupyter Notebook như sau:\n",
    "1. [Windows](https://datatofish.com/add-julia-to-jupyter/)\n",
    "2. [Linux](https://docs.rc.fas.harvard.edu/kb/julia-with-jupyter-notebooks-on-odyssey/)\n",
    "\n",
    "Về cơ bản, nếu bạn đã sử dụng Jupyter Notebook rồi thì bạn chỉ cần cài đặt thêm thư viện `IJulia` trên Julia, phần còn lại chỉ đơn giản là mở `jupyter notebook` ra là bạn có thể tạo 1 kernel trên Julia được:\n",
    "\n",
    "```julia\n",
    "using Pkg\n",
    "Pkg.add(\"IJulia\")\n",
    "```\n",
    "![image.png](../images/julia-ijulia.png)\n",
    "\n",
    "Sau đó, bạn có thể tạo được notebook vs kernel là julia.1.5.4:\n",
    "![image.png](../images/jupyter-notebook.png)\n",
    "\n",
    "**Lưu ý:**\n",
    "Với các bạn đã làm quen với Jupyter Lab, với version hiện tại của Jupyter Lab và IJulia, tốt nhất là không sử dụng Jupyter Lab do IJulia không thể compile code được vs Jupyter Lab và kernel thường bị chết giữa chừng."
   ]
  },
  {
   "cell_type": "markdown",
   "id": "eeff893e",
   "metadata": {},
   "source": [
    "## Nội dung chính\n",
    "\n",
    "Phần lớn nội dung của bài viết này sẽ bám sát với bài viết [data-wrangling-with-tidyverse](https://github.com/ddpham/data-wrangling-with-tidyverse) được viết trên R.\n",
    "\n",
    "Nội dung chính của bài này bao gồm:\n",
    "1. Giới thiệu về Pipe operator\n",
    "2. Các phương pháp biến đổi dữ liệu cơ bản\n",
    "3. Các phương pháp biến đổi dữ liệu nâng cao"
   ]
  },
  {
   "cell_type": "code",
   "execution_count": null,
   "id": "61eaaf21",
   "metadata": {},
   "outputs": [],
   "source": []
  }
 ],
 "metadata": {
  "kernelspec": {
   "display_name": "Python 3",
   "language": "python",
   "name": "python3"
  },
  "language_info": {
   "codemirror_mode": {
    "name": "ipython",
    "version": 3
   },
   "file_extension": ".py",
   "mimetype": "text/x-python",
   "name": "python",
   "nbconvert_exporter": "python",
   "pygments_lexer": "ipython3",
   "version": "3.8.5"
  }
 },
 "nbformat": 4,
 "nbformat_minor": 5
}
